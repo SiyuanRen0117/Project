{
 "cells": [
  {
   "cell_type": "code",
   "execution_count": 187,
   "metadata": {},
   "outputs": [],
   "source": [
    "import os\n",
    "\n",
    "import numpy as np\n",
    "from PIL import Image\n",
    "import cv2\n",
    "import matplotlib.pyplot as plt\n",
    "from plyfile import *\n",
    "import glob\n",
    "import time\n",
    "from kitti360scripts.helpers.project import Camera, CameraPerspective\n",
    "from kitti360scripts.helpers.ply import *"
   ]
  },
  {
   "cell_type": "code",
   "execution_count": 188,
   "metadata": {},
   "outputs": [
    {
     "name": "stdout",
     "output_type": "stream",
     "text": [
      "/media/ren/EXTERNAL_USB/KITTI360_DATASET/\n"
     ]
    }
   ],
   "source": [
    "#Main path\n",
    "\n",
    "KITTI360Path=\"/media/ren/EXTERNAL_USB/KITTI360_DATASET/\"\n",
    "\n",
    "print(KITTI360Path)\n",
    "\n",
    "\n",
    "\n"
   ]
  },
  {
   "cell_type": "code",
   "execution_count": 189,
   "metadata": {},
   "outputs": [],
   "source": [
    "\n",
    "#perspective file\n",
    "perspective=os.path.join(KITTI360Path,\"calibration/perspective.txt\")\n",
    "#calib_cam2pose file\n",
    "calib_cam2pose=os.path.join(KITTI360Path,\"calibration/calib_cam_to_pose.txt\")"
   ]
  },
  {
   "cell_type": "code",
   "execution_count": 180,
   "metadata": {},
   "outputs": [],
   "source": [
    "# K,width,height=CameraPerspective.load_intrinsics(perspective)"
   ]
  },
  {
   "cell_type": "code",
   "execution_count": 190,
   "metadata": {},
   "outputs": [],
   "source": [
    "#intrinsic matrix and recification matrix load from perspective\n",
    "def load_intrinsics(intrinsic_file):\n",
    "    #This function is camera Intrinsic matrix, P_rect_00 and R_rect_00\n",
    "    with open(intrinsic_file) as f:\n",
    "        intrinsics = f.read().splitlines()\n",
    "    for line in intrinsics:\n",
    "        line = line.split(' ')\n",
    "        #3x4 intrinsic matrix from perspective.txt\n",
    "        if line[0] == 'P_rect_00:' :\n",
    "            IntrinsicMat = [float(x) for x in line[1:]]\n",
    "            IntrinsicMat = np.reshape(IntrinsicMat, [3,4])\n",
    " \n",
    "\n",
    "    return IntrinsicMat#, R_rectMat,# calic2p"
   ]
  },
  {
   "cell_type": "code",
   "execution_count": 191,
   "metadata": {},
   "outputs": [
    {
     "data": {
      "text/plain": [
       "array([[552.554261,   0.      , 682.049453,   0.      ],\n",
       "       [  0.      , 552.554261, 238.769549,   0.      ],\n",
       "       [  0.      ,   0.      ,   1.      ,   0.      ]])"
      ]
     },
     "execution_count": 191,
     "metadata": {},
     "output_type": "execute_result"
    }
   ],
   "source": [
    "IntrinsicMat=load_intrinsics(perspective)#read intrinsic matrix and rectification matrix\n",
    "IntrinsicMat"
   ]
  },
  {
   "cell_type": "code",
   "execution_count": 249,
   "metadata": {},
   "outputs": [
    {
     "name": "stdout",
     "output_type": "stream",
     "text": [
      "24\n",
      "pcMat (3, 3691047)\n",
      "pcMatC (3, 3691047)\n"
     ]
    }
   ],
   "source": [
    "# #ply read\n",
    "def read_ply(seq,str):\n",
    "    \"\"\" read XYZ point cloud from filename PLY file \"\"\"\n",
    "    pc_path=os.path.join(KITTI360Path,'data_3d_semantics/2013_05_28_drive_00%s_sync/'%seq,str)\n",
    "    # print(pc_path)\n",
    "    filelist = os.listdir(pc_path)\n",
    "    filelist=sorted(filelist)\n",
    "    # print('file',filelist)\n",
    "    print(len(filelist))\n",
    "    for i in range(1):\n",
    "    # for i in range(10):\n",
    "        # print(filelist[i],i)\n",
    "        plydata = PlyData.read(os.path.join(pc_path,filelist[i]))\n",
    "        # print('plydata',plydata)\n",
    "        pc_x = np.expand_dims(np.array(plydata['vertex']['x']),1)\n",
    "        pc_y = np.expand_dims(np.array(plydata['vertex']['y']),1)\n",
    "        pc_z = np.expand_dims(np.array(plydata['vertex']['z']),1)\n",
    "        pc_r = np.expand_dims(np.array(plydata['vertex']['red']),1)#.reshape()\n",
    "        pc_g = np.expand_dims(np.array(plydata['vertex']['green']),1)\n",
    "        pc_b = np.expand_dims(np.array(plydata['vertex']['blue']),1)\n",
    "        # print(pc_x.shape,pc_y.shape,pc_z.shape)\n",
    "        pc=np.concatenate((pc_x,pc_y,pc_z),1)\n",
    "        # print('pcc',pc)\n",
    "        pc=np.transpose(np.concatenate((pc_x,pc_y,pc_z),1))\n",
    "        # print('pc',pc)\n",
    "        pc_color=np.transpose(np.concatenate((pc_r,pc_g,pc_b),1))\n",
    "        \n",
    "        if i == 0:\n",
    "            pc_0=pc\n",
    "            pc_c0=pc_color\n",
    "            pcMat=pc_0\n",
    "            pcMat_RGB=pc_c0\n",
    "            # print('pc_0',pc_0.shape)#3323827\n",
    "            # print('pc_c0',pc_c0)\n",
    "        # print(pc_0)\n",
    "        else:\n",
    "            pcMat=np.array(np.concatenate([pcMat,pc],axis=1))\n",
    "            \n",
    "            \n",
    "        # pcMat=np.concatenate([pcMat,pc],axis=0)\n",
    "            pcMat_RGB=np.array(np.concatenate([pcMat_RGB,pc_color],axis=1))\n",
    "    # print(pc.shape)\n",
    "    # pcMat\n",
    "        # print('pcMat',pcMat.shape)\n",
    "    return pcMat,pcMat_RGB\n",
    "\n",
    "pcMat,pcMatC=read_ply(\"05\",\"static\")\n",
    "# pcMat=pcMat[:,:100]\n",
    "print('pcMat',pcMat.shape)\n",
    "print('pcMatC',pcMatC.shape)\n"
   ]
  },
  {
   "cell_type": "code",
   "execution_count": 125,
   "metadata": {},
   "outputs": [],
   "source": [
    "# # #ply read, one 1 file\n",
    "# def read_ply(seq,str):\n",
    "#     \"\"\" read XYZ point cloud from filename PLY file \"\"\"\n",
    "#     pc_path=os.path.join(KITTI360Path,'data_3d_semantics/2013_05_28_drive_00%s_sync/'%seq,str)\n",
    "#     # print(pc_path)\n",
    "#     filelist = os.listdir(pc_path)\n",
    "#     filelist=sorted(filelist)\n",
    "#     # print('file',filelist)\n",
    "#     print(len(filelist))\n",
    "#     # for i in range(filelist):\n",
    "#     for i in range(1):\n",
    "#         # print(filelist[i],i)\n",
    "#         plydata = PlyData.read(os.path.join(pc_path,filelist[i]))\n",
    "#         # print('plydata',plydata)\n",
    "#         pc_x = np.expand_dims(np.array(plydata['vertex']['x']),1)\n",
    "#         pc_y = np.expand_dims(np.array(plydata['vertex']['y']),1)\n",
    "#         pc_z = np.expand_dims(np.array(plydata['vertex']['z']),1)\n",
    "#         pc_r = np.expand_dims(np.array(plydata['vertex']['red']),1)#.reshape()\n",
    "#         pc_g = np.expand_dims(np.array(plydata['vertex']['green']),1)\n",
    "#         pc_b = np.expand_dims(np.array(plydata['vertex']['blue']),1)\n",
    "#         # print(pc_x.shape,pc_y.shape,pc_z.shape)\n",
    "#         pc=np.concatenate((pc_x,pc_y,pc_z),1)\n",
    "#         # print('pcc',pc)\n",
    "#         pc=np.transpose(np.concatenate((pc_x,pc_y,pc_z),1))\n",
    "#         # print('pc',pc)\n",
    "#         pc_color=np.transpose(np.concatenate((pc_r,pc_g,pc_b),1))\n",
    "        \n",
    "#         if i == 0:\n",
    "#             pc_0=pc\n",
    "#             pc_c0=pc_color\n",
    "#             pcMat=pc_0\n",
    "#             pcMat_RGB=pc_c0\n",
    "#             # print('pc_0',pc_0.shape)#3323827\n",
    "#             # print('pc_c0',pc_c0)\n",
    "#         # print(pc_0)\n",
    "#         else:\n",
    "#             pcMat=np.array(np.concatenate([pcMat,pc],axis=1))\n",
    "            \n",
    "            \n",
    "#         # pcMat=np.concatenate([pcMat,pc],axis=0)\n",
    "#             pcMat_RGB=np.array(np.concatenate([pcMat_RGB,pc_color],axis=1))\n",
    "#     # print(pc.shape)\n",
    "#     # pcMat\n",
    "#         # print('pcMat',pcMat.shape)\n",
    "#     return pcMat,pcMat_RGB\n",
    "\n",
    "# pcMat,pcMatC=read_ply(\"05\",\"static\")\n",
    "# # pcMat=pcMat[:,:100]\n",
    "# print('pcMat',pcMat.shape)\n"
   ]
  },
  {
   "cell_type": "code",
   "execution_count": 126,
   "metadata": {},
   "outputs": [],
   "source": [
    "# # #ply read\n",
    "# def read_oneply(seq,str):\n",
    "#     \"\"\" read XYZ point cloud from filename PLY file \"\"\"\n",
    "#     pc_path=os.path.join(KITTI360Path,'data_3d_semantics/2013_05_28_drive_00%s_sync/'%seq,str,'000002_000357.ply')\n",
    "#     # print(pc_path)\n",
    "#     # filelist = os.listdir(pc_path)\n",
    "#     # filelist=sorted(filelist)\n",
    "#     # print('file',filelist)\n",
    "#     # print(len(filelist))\n",
    "#     # print(filelist[i],i)\n",
    "#     plydata = PlyData.read(pc_path)\n",
    "#     # print('plydata',plydata)\n",
    "#     pc_x = np.expand_dims(np.array(plydata['vertex']['x']),1)\n",
    "#     pc_y = np.expand_dims(np.array(plydata['vertex']['y']),1)\n",
    "#     pc_z = np.expand_dims(np.array(plydata['vertex']['z']),1)\n",
    "#     pc_r = np.expand_dims(np.array(plydata['vertex']['red']),1)#.reshape()\n",
    "#     pc_g = np.expand_dims(np.array(plydata['vertex']['green']),1)\n",
    "#     pc_b = np.expand_dims(np.array(plydata['vertex']['blue']),1)\n",
    "#     # print(pc_x.shape,pc_y.shape,pc_z.shape)\n",
    "#     pc=np.concatenate((pc_x,pc_y,pc_z),1)\n",
    "#     # print('pcc',pc)\n",
    "#     pc=np.transpose(np.concatenate((pc_x,pc_y,pc_z),1))\n",
    "#     # print('pc',pc)\n",
    "#     pc_color=np.transpose(np.concatenate((pc_r,pc_g,pc_b),1))\n",
    "    \n",
    "    \n",
    "#     # pc_0=pc\n",
    "#     # pc_c0=pc_color\n",
    "#     # pcMat=pc_0\n",
    "#     # pcMatC=pc_c0\n",
    "#         # print('pc_0',pc_0)\n",
    "#         # print('pc_c0',pc_c0)\n",
    "#     # print(pc_0)\n",
    "#     # pcMat=np.array(np.concatenate([pcMat,pc],axis=1))\n",
    "        \n",
    "        \n",
    "#     # pcMat=np.concatenate([pcMat,pc],axis=0)\n",
    "#     # pcMat_RGB=np.array(np.concatenate([pcMatC,pc_color],axis=1))\n",
    "#     # print(pc.shape)\n",
    "#     # pcMat\n",
    "#     return pc,pc_color\n",
    "\n",
    "# pcMat,pcMatC=read_oneply(\"05\",\"static\")\n",
    "# print('pcMat',pcMat,pcMat.shape)"
   ]
  },
  {
   "cell_type": "code",
   "execution_count": 127,
   "metadata": {},
   "outputs": [],
   "source": [
    "# pc_path=os.path.join(KITTI360Path,'data_3d_semantics/2013_05_28_drive_0000_sync/static/000372_000610.ply')\n",
    "# data=read_oneply(pc_path, \"static\")\n",
    "# print(data,data.shape)\n",
    "\n",
    "# pcMat= np.vstack((data['x'], data['y'], data['z']))\n",
    "# pcMatC= np.vstack((data['red'], data['green'], data['blue']))\n",
    "# print(pcMat,pcMat.shape,pcMatC,pcMatC.shape)"
   ]
  },
  {
   "cell_type": "code",
   "execution_count": 250,
   "metadata": {},
   "outputs": [
    {
     "name": "stdout",
     "output_type": "stream",
     "text": [
      "pcMat [[128 128 128 ... 128 128 128]\n",
      " [128 128 128 ... 128 128 128]\n",
      " [128 128 128 ... 128 128 128]] (3, 1000)\n"
     ]
    }
   ],
   "source": [
    "print('pcMat',pcMatC[:,9000:10000],pcMatC[:,9000:10000].shape)"
   ]
  },
  {
   "cell_type": "code",
   "execution_count": 238,
   "metadata": {},
   "outputs": [
    {
     "name": "stdout",
     "output_type": "stream",
     "text": [
      "0.0001068115234375\n"
     ]
    }
   ],
   "source": [
    "import sys\n",
    "print(sys.getsizeof(pcMat)/1024**2)"
   ]
  },
  {
   "cell_type": "code",
   "execution_count": null,
   "metadata": {},
   "outputs": [],
   "source": [
    "# T"
   ]
  },
  {
   "cell_type": "code",
   "execution_count": 264,
   "metadata": {},
   "outputs": [],
   "source": [
    "def world2image(pose_array_list, pcMat, pcMatC,IntrinsicMat):\n",
    "    #This function is to open poses file \n",
    "    #cam2poses file\n",
    "    \n",
    "    #input: row of cam0_to_world, 1x16 \n",
    "    #input: point cloud matrix, 3xN\n",
    "    # warning: pcMat will be destroyed!\n",
    "    \"\"\"\n",
    "    posespath=os.path.join(KITTI360Path,'data_poses/2013_05_28_drive_00%s_sync/'%seq,\"cam0_to_world.txt\")\n",
    "    # print('poses',posespath)\n",
    "    \n",
    "    with open(posespath) as f:\n",
    "        posesdata = f.read().splitlines()\n",
    "    start_time=time.time()\n",
    "    for line in posesdata:\n",
    "        line = line.split(' ')\n",
    "        # print('line',line)\n",
    "        # for i in line:\n",
    "        if '' in line:\n",
    "            line.remove('')\n",
    "        frame.append(int(line[0]))\n",
    "        frameID=len(frame)\n",
    "        print(frameID)\n",
    "        pcMat,pcMatC=read_ply(\"00\",'static')\n",
    "    \"\"\"\n",
    "        \n",
    "\n",
    "        # print('line',line)\n",
    "        # print('line',line[1:])\n",
    "\n",
    "        # print('frame',line[0])\n",
    "        # print('len line',len(line))  \n",
    "    #所有的R和T的来源，每个点的平移和旋转\n",
    "    pose=np.array([float(x) for x in pose_array_list]).reshape(4,4)\n",
    "    print('pose',pose)\n",
    "    R=pose[:3,:3].reshape(3,3)\n",
    "    T=pose[:3,3].reshape(3,1)\n",
    "    #R是3✖3，T是3x1。points最终结果为3x1\n",
    "    print('R',R,R.shape)\n",
    "    print('T',T,T.shape)\n",
    "    # print('R',R,R.shape)\n",
    "    \n",
    "    # print(int(pcMat.shape[1]))\n",
    "    \n",
    "    #R:3x3, pcMat:3xN, T:扩展为3xN    \n",
    "    # print('T.shape',(np.repeat(np.expand_dims(T,axis=1),pcMat.shape[1],axis=1)).shape)\n",
    "    # print('mat shape',pcMat[:,:].shape)\n",
    "    # print('R shape',(R.T).shape)\n",
    "    # points_local=np.matmul(R.T,(pcMat[:,:]-np.repeat(np.expand_dims(T,axis=1),pcMat.shape[1],axis=1)))\n",
    "    # points_local=np.matmul(R.T,(pcMat[:,:]-np.repeat(T,pcMat.shape[1],axis=1)))\n",
    "    # points_local=np.matmul(R.T,(pcMat[:,:]-np.repeat(T,pcMat.shape[1],axis=1)))\n",
    "        # points_local.append(points)\n",
    "    # print('pcMat',pcMat[:,:].shape)\n",
    "    # print('T',T[:,:],T[:,:].shape)\n",
    "    print('transfer',((pcMat-T)),((pcMat-T)).shape)\n",
    "    # Pworld=\n",
    "    print(\"transpose R\",np.linalg.inv(R))\n",
    "    points_local=np.matmul(R.T,(pcMat-T))\n",
    "    print('local points',points_local)    \n",
    "    #local points = 3xN\n",
    "    print('3x3 Intrinsic',IntrinsicMat[:3,:3])\n",
    "    print('Intrinsic',IntrinsicMat)\n",
    "    proj_points=np.matmul(IntrinsicMat[:3,:3],points_local)\n",
    "    print('image points',proj_points[:,:100])\n",
    "    del pcMat\n",
    "    # proj_points.append(points_proj)\n",
    "    print((proj_points[2,:]>0).shape)\n",
    "    print(proj_points.shape)\n",
    "    idx = proj_points[2,:]>0\n",
    "    proj_points = proj_points[:,idx]\n",
    "    pcMatC= pcMatC[:,idx]\n",
    "    print('filter1',proj_points)\n",
    "    #proj_points[2,:][proj_points[2,:]==0] = -1e-6\n",
    "    #depth=proj_points[2,:]\n",
    "    \n",
    "    #depth[depth==0]= -1e-6\n",
    "    \n",
    "    #print(sys.getsizeof(proj_points))\n",
    "\n",
    "    #normalized image coordinates\n",
    "    u = np.round(proj_points[0,:]/np.abs(proj_points[2,:]))#.astype(np.int)\n",
    "    v = np.round(proj_points[1,:]/np.abs(proj_points[2,:]))#.astype(np.int)\n",
    "        \n",
    "        # U.append(u)\n",
    "        # V.append(v)\n",
    "        # d.append(depth)\n",
    "        # end_time=time.time()\n",
    "        # print('pose',pose)\n",
    "        # pose=np.array(np.concatenate((pose, np.array([0.,0.,0.,1.]).reshape(1,4))))\n",
    "        # print('pose',pose)\n",
    "        # print('time',end_time-start_time)\n",
    "        # poses.appened(pose)\n",
    "    # print(\"poses\",poses)\n",
    "            # calculate u, v depth\n",
    "    print('u',u,u.shape)\n",
    "    print('v',v,u.shape)\n",
    "    print('d',proj_points[2,:])\n",
    "    return u,v,proj_points[2,:],pcMatC\n",
    "\n"
   ]
  },
  {
   "cell_type": "code",
   "execution_count": 265,
   "metadata": {},
   "outputs": [
    {
     "name": "stdout",
     "output_type": "stream",
     "text": [
      "24\n",
      "pcMatC [[128 128 128 ... 128 128 128]\n",
      " [128 128 128 ... 128 128 128]\n",
      " [128 128 128 ... 128 128 128]] (3, 3691047)\n",
      "pose [[ 9.751520e-01  7.231276e-02 -2.094060e-01  3.418926e+03]\n",
      " [ 2.197550e-01 -1.959833e-01  9.556660e-01 -3.000540e+03]\n",
      " [ 2.806700e-02 -9.779376e-01 -2.070040e-01  2.448654e+02]\n",
      " [ 0.000000e+00  0.000000e+00  0.000000e+00  1.000000e+00]]\n",
      "R [[ 0.975152    0.07231276 -0.209406  ]\n",
      " [ 0.219755   -0.1959833   0.955666  ]\n",
      " [ 0.028067   -0.9779376  -0.207004  ]] (3, 3)\n",
      "T [[ 3418.926 ]\n",
      " [-3000.54  ]\n",
      " [  244.8654]] (3, 1)\n",
      "transfer [[-150.88986719 -150.78049219 -150.76291406 ... -145.71555078\n",
      "  -145.76755273 -145.7944082 ]\n",
      " [ -20.83695313  -20.95511719  -20.81839844 ...  -11.79911133\n",
      "   -11.55619141  -11.57035156]\n",
      " [  -8.32890098   -8.31109397   -8.31429832 ...   -5.84640281\n",
      "    -6.59179465   -6.48930137]] (3, 3691047)\n",
      "transpose R [[ 0.97515055  0.21975492  0.02806675]\n",
      " [ 0.07231281 -0.19598287 -0.97793713]\n",
      " [-0.20940591  0.95566693 -0.20700449]]\n",
      "local points [[-151.95334767 -151.87215777 -151.82506173 ... -144.85181547\n",
      "  -144.87006333 -144.89648658]\n",
      " [   1.31757751    1.33123076    1.30884095 ...   -2.50724775\n",
      "    -1.82966969   -1.92906856]\n",
      " [  13.4081917    13.26867642   13.39631623 ...   20.44792987\n",
      "    20.84526879   20.81614359]]\n",
      "3x3 Intrinsic [[552.554261   0.       682.049453]\n",
      " [  0.       552.554261 238.769549]\n",
      " [  0.         0.         1.      ]]\n",
      "Intrinsic [[552.554261   0.       682.049453   0.      ]\n",
      " [  0.       552.554261 238.769549   0.      ]\n",
      " [  0.         0.         1.         0.      ]]\n",
      "image points [[-7.48174199e+04 -7.48677144e+04 -7.47546346e+04 -7.45639878e+04\n",
      "  -7.46393468e+04 -7.46545247e+04 -7.46714180e+04 -7.46783270e+04\n",
      "  -7.44977355e+04 -7.45426436e+04 -7.45740243e+04 -7.45799794e+04\n",
      "  -7.44192073e+04 -7.44255723e+04 -7.44784255e+04 -7.44959591e+04\n",
      "  -7.45009786e+04 -7.43934931e+04 -7.41965320e+04 -7.42184901e+04\n",
      "  -7.42494907e+04 -7.42844583e+04 -7.41085151e+04 -7.41512351e+04\n",
      "  -7.42159397e+04 -7.40545982e+04 -7.40718437e+04 -7.41277271e+04\n",
      "  -7.41561807e+04 -7.79366223e+04 -7.79627228e+04 -7.59276123e+04\n",
      "  -7.57610557e+04 -7.58263046e+04 -7.57571235e+04 -7.58176954e+04\n",
      "  -7.58930197e+04 -7.57327584e+04 -7.57238756e+04 -7.56820250e+04\n",
      "  -7.57046916e+04 -7.57553573e+04 -7.58049123e+04 -7.57787677e+04\n",
      "  -7.58189313e+04 -7.57887982e+04 -7.57671419e+04 -7.58637668e+04\n",
      "  -7.58243295e+04 -7.59116271e+04 -7.57063941e+04 -7.56822100e+04\n",
      "  -7.57103173e+04 -7.57489844e+04 -7.56544833e+04 -7.56696809e+04\n",
      "  -7.57093638e+04 -7.57742781e+04 -7.56622837e+04 -7.57837981e+04\n",
      "  -7.56224389e+04 -7.56624067e+04 -7.56774350e+04 -7.57312589e+04\n",
      "  -7.56394319e+04 -7.54504891e+04 -7.53795244e+04 -7.53285404e+04\n",
      "  -7.53411322e+04 -7.56925744e+04 -7.57027851e+04 -7.57537050e+04\n",
      "  -7.54588873e+04 -7.53911462e+04 -7.53216502e+04 -7.56383406e+04\n",
      "  -7.56929128e+04 -7.55825156e+04 -7.53288920e+04 -7.53343582e+04\n",
      "  -7.53475006e+04 -7.56161751e+04 -7.54736542e+04 -7.53878385e+04\n",
      "  -7.52876166e+04 -7.56107689e+04 -7.56228113e+04 -7.55135936e+04\n",
      "  -7.54307314e+04 -7.53473102e+04 -7.53182763e+04 -7.53308908e+04\n",
      "  -7.53049175e+04 -7.55683971e+04 -7.54262872e+04 -7.53272249e+04\n",
      "  -7.52619182e+04 -7.53094415e+04 -7.53688486e+04 -7.53372947e+04]\n",
      " [ 3.92950096e+03  3.90373312e+03  3.92183803e+03  3.97694031e+03\n",
      "   3.94073644e+03  3.92656503e+03  3.91307639e+03  3.89803672e+03\n",
      "   4.00641847e+03  3.96508257e+03  3.95455364e+03  3.92497235e+03\n",
      "   3.98689933e+03  3.97075206e+03  3.94857566e+03  3.93595429e+03\n",
      "   3.92098159e+03  3.95428955e+03  4.01147997e+03  3.99644016e+03\n",
      "   3.98705011e+03  3.95655549e+03  4.04369640e+03  4.00780376e+03\n",
      "   3.98755045e+03  4.03959807e+03  4.02332198e+03  3.99503378e+03\n",
      "   3.96579374e+03  2.77355956e+03  2.82053243e+03  3.12930645e+03\n",
      "   3.17447784e+03  3.16704257e+03  3.15863570e+03  3.15257885e+03\n",
      "   3.16514765e+03  3.15756546e+03  3.22064353e+03  3.21082962e+03\n",
      "   3.19595793e+03  3.18368570e+03  3.17446839e+03  3.16430908e+03\n",
      "   3.24007759e+03  3.22726240e+03  3.21507482e+03  3.19171272e+03\n",
      "   3.18418098e+03  3.17914364e+03  3.25403681e+03  3.24144018e+03\n",
      "   3.22689179e+03  3.21447684e+03  3.29021427e+03  3.26999531e+03\n",
      "   3.25451397e+03  3.24358483e+03  3.22881640e+03  3.35753385e+03\n",
      "   3.33268138e+03  3.32212867e+03  3.30865922e+03  3.29726391e+03\n",
      "   3.28649227e+03  3.27433022e+03  3.26946773e+03  3.25861510e+03\n",
      "   3.24392946e+03  3.36726742e+03  3.35306470e+03  3.34486296e+03\n",
      "   3.31254409e+03  3.30553607e+03  3.29848669e+03  3.38494943e+03\n",
      "   3.36908336e+03  3.35212695e+03  3.31087774e+03  3.29848177e+03\n",
      "   3.28389365e+03  3.39450923e+03  3.36929809e+03  3.35995571e+03\n",
      "   3.34668181e+03  3.42655660e+03  3.41271437e+03  3.39298091e+03\n",
      "   3.38352932e+03  3.37120341e+03  3.35879390e+03  3.34523711e+03\n",
      "   3.33352851e+03  3.44163578e+03  3.42563749e+03  3.41378735e+03\n",
      "   3.40500114e+03  3.35787429e+03  3.44405289e+03  3.43192158e+03]\n",
      " [ 1.34081917e+01  1.32686764e+01  1.33963162e+01  1.37170823e+01\n",
      "   1.35206407e+01  1.34597362e+01  1.33978115e+01  1.33427061e+01\n",
      "   1.38005365e+01  1.36288358e+01  1.35589435e+01  1.34636251e+01\n",
      "   1.37699735e+01  1.37166156e+01  1.35857935e+01  1.35258697e+01\n",
      "   1.34742622e+01  1.36245035e+01  1.39705845e+01  1.39019927e+01\n",
      "   1.38365558e+01  1.37050289e+01  1.41145180e+01  1.39660991e+01\n",
      "   1.38270555e+01  1.41168082e+01  1.40525105e+01  1.39042475e+01\n",
      "   1.37848503e+01  1.03413889e+01  1.03102038e+01  1.20689235e+01\n",
      "   1.22832896e+01  1.22094820e+01  1.22266522e+01  1.21612197e+01\n",
      "   1.20875628e+01  1.21745145e+01  1.23574120e+01  1.23518782e+01\n",
      "   1.22802386e+01  1.21976115e+01  1.21269293e+01  1.21080896e+01\n",
      "   1.22790304e+01  1.22546815e+01  1.22261171e+01  1.20672279e+01\n",
      "   1.20687561e+01  1.19842830e+01  1.23386946e+01  1.23114914e+01\n",
      "   1.22367829e+01  1.21615353e+01  1.23812296e+01  1.22965955e+01\n",
      "   1.22093487e+01  1.21178849e+01  1.21531537e+01  1.23099511e+01\n",
      "   1.23515477e+01  1.22816408e+01  1.22209826e+01  1.21362664e+01\n",
      "   1.21714270e+01  1.22801625e+01  1.23199480e+01  1.23215923e+01\n",
      "   1.22572088e+01  1.23110737e+01  1.22523477e+01  1.21809350e+01\n",
      "   1.23103817e+01  1.23416391e+01  1.23741920e+01  1.23245143e+01\n",
      "   1.22222514e+01  1.22563847e+01  1.23255601e+01  1.22760068e+01\n",
      "   1.22116355e+01  1.22990497e+01  1.23346679e+01  1.23761356e+01\n",
      "   1.24165941e+01  1.23230960e+01  1.22645311e+01  1.22929147e+01\n",
      "   1.23336373e+01  1.23648093e+01  1.23469297e+01  1.22875226e+01\n",
      "   1.22690093e+01  1.22929022e+01  1.23678998e+01  1.24175504e+01\n",
      "   1.24470245e+01  1.22381351e+01  1.23920840e+01  1.23800132e+01]]\n",
      "(3691047,)\n",
      "(3, 3691047)\n",
      "filter1 [[-7.48174199e+04 -7.48677144e+04 -7.47546346e+04 ... -6.60919885e+04\n",
      "  -6.58310666e+04 -6.58655317e+04]\n",
      " [ 3.92950096e+03  3.90373312e+03  3.92183803e+03 ...  3.49695257e+03\n",
      "   3.96622365e+03  3.90434616e+03]\n",
      " [ 1.34081917e+01  1.32686764e+01  1.33963162e+01 ...  2.04479299e+01\n",
      "   2.08452688e+01  2.08161436e+01]]\n",
      "u [-5580. -5642. -5580. ... -3232. -3158. -3164.] (3399069,)\n",
      "v [293. 294. 293. ... 171. 190. 188.] (3399069,)\n",
      "d [13.4081917  13.26867642 13.39631623 ... 20.44792987 20.84526879\n",
      " 20.81614359]\n"
     ]
    }
   ],
   "source": [
    "\n",
    "# pcMat,pcMatC=read_oneply(\"05\",\"static\")\n",
    "pcMat,pcMatC=read_ply(\"05\",\"static\")\n",
    "# pcMat=pcMat[:,9000:10000]\n",
    "# pcMatC=pcMatC[:,9000:10000]\n",
    "print('pcMatC',pcMatC,pcMatC.shape)\n",
    "posespath=os.path.join(KITTI360Path,\"data_poses/2013_05_28_drive_0005_sync/cam0_to_world.txt\")\n",
    "IntrinsicMat=load_intrinsics(perspective)#read intrinsic matrix and rectification matrix\n",
    "# print('IntrinsicMat',IntrinsicMat,IntrinsicMat.shape)\n",
    "poses=np.loadtxt(posespath)\n",
    "frame=poses[:,0]\n",
    "pose_initial=poses[0,1:]\n",
    "\n",
    "# print('inital',pose_initial)\n",
    "u,v,d,pcMatC=world2image(pose_initial, pcMat,pcMatC, IntrinsicMat)\n",
    "del pcMat\n",
    "\n",
    "# print('u',u,u.shape)\n",
    "# print('v',v,v.shape)\n",
    "# print('depth',d,d.shape)\n",
    "# del u,v,d"
   ]
  },
  {
   "cell_type": "code",
   "execution_count": 110,
   "metadata": {},
   "outputs": [
    {
     "data": {
      "text/plain": [
       "135787662425.0"
      ]
     },
     "execution_count": 110,
     "metadata": {},
     "output_type": "execute_result"
    }
   ],
   "source": [
    "max(u)"
   ]
  },
  {
   "cell_type": "code",
   "execution_count": 266,
   "metadata": {},
   "outputs": [],
   "source": [
    "pcMat = None"
   ]
  },
  {
   "cell_type": "code",
   "execution_count": null,
   "metadata": {},
   "outputs": [],
   "source": [
    "# def transfer4frame(seq,pcMat):\n",
    "#     posespath=os.path.join(KITTI360Path,'data_poses/2013_05_28_drive_00%s_sync/'%seq,\"cam0_to_world.txt\")\n",
    "#     # print('poses',posespath)\n",
    "#     frame=[]\n",
    "#     U=[]\n",
    "#     V=[]\n",
    "#     D=[]\n",
    "#     # with open(posespath) as f:\n",
    "#     #     posesdata = f.read().splitlines()\n",
    "#     #     # print(posesdata)\n",
    "#     # # start_time=time.time()\n",
    "#     # for line in posesdata:\n",
    "#     #     line = line.split(' ')\n",
    "#     #     print('line',line)\n",
    "#     #     # for i in line:\n",
    "#     #     if '' in line:\n",
    "#     #         line.remove('')\n",
    "#     #     print('l',line)\n",
    "#     #     frame.append(int(line[0]))\n",
    "#     #     frameID=len(frame)\n",
    "#     #     print(\"frameID\",frameID)\n",
    "#     poses=np.loadtxt(posespath)    \n",
    "#     frame=poses[:,0]\n",
    "#     poses=poses[:,1:]\n",
    "#     print('poses',poses.shape)\n",
    "#     for i in range(poses.shape[0]): \n",
    "  \n",
    "#         u,v,depth=world2image(poses[i,:], pcMat)\n",
    "#         frame[i]\n",
    "#         U.append(u.T)\n",
    "#         V.append(v.T)\n",
    "        \n",
    "#         D.append(depth.T)    \n",
    "\n",
    "        \n",
    "        \n",
    "#     return U,V,D\n",
    "    "
   ]
  },
  {
   "cell_type": "code",
   "execution_count": null,
   "metadata": {},
   "outputs": [],
   "source": [
    "# u,v,depth=transfer4frame('00', pcMat)"
   ]
  },
  {
   "cell_type": "code",
   "execution_count": 296,
   "metadata": {},
   "outputs": [],
   "source": [
    "\n",
    "def uvdepth_to_image(u, v, depth, image_x=1408, image_y=376):\n",
    "    # input u: N*1\n",
    "    # input v: N*1\n",
    "    # input depth: N*1\n",
    "    # return: image image_x*image_y\n",
    "    \n",
    "    idx = np.where((u >= 0) & (u < image_x) & (v >= 0) & (v < image_y) & (depth >= 0))\n",
    "    image = np.zeros((image_x, image_y))\n",
    "    \n",
    "    for i in idx:\n",
    "        x = u[i]\n",
    "        y = v[i]\n",
    "        d = depth[i]\n",
    "        image[x,y] = d\n",
    "    return image\n",
    "\n",
    "def uvRGBD_to_image(u, v,  depth, rgb_mat, image_x=1408, image_y=376):\n",
    "    # input u: N*1\n",
    "    # input v: N*1\n",
    "    # input rgb_mat: N*3\n",
    "    # return: image: image_x*image_y*3\n",
    "    #u -= 200\n",
    "    #v -= 80\n",
    "    idx = np.where((u >= 0) & (u < image_x) & (v >= 0) & (v < image_y) & (depth >= 0))\n",
    "    # print(idx[0].shape)\n",
    "    # print(idx)\n",
    "    image = np.zeros((image_x, image_y, 3))\n",
    "    image_depth = np.ones((image_x, image_y))*np.inf\n",
    "    # rgb_mat=rgb_mat.transpose((1,2,0))\n",
    "    # print('image 0',image)\n",
    "    # print(\"rgb\",rgb_mat.shape)\n",
    "    # print(\"u\",u.shape)\n",
    "    # print('idx',idx[0])\n",
    "    # print(len(idx[0]))\n",
    "    for i in idx[0]:\n",
    "        x = int(u[i])\n",
    "        y = int(v[i])\n",
    "        rgb = rgb_mat[i,:]\n",
    "        # print('rgb',rgb.shape)\n",
    "        d = depth[i]\n",
    "        # print((x,y,rgb,d))\n",
    "        if d < image_depth[x,y]:\n",
    "            # print(rgb)\n",
    "            image[x, y, :] = np.array([rgb[2],rgb[1],rgb[0]])#bgr\n",
    "            image_depth[x,y] = d\n",
    "    return image, image_depth\n",
    "    \n",
    "    \n"
   ]
  },
  {
   "cell_type": "code",
   "execution_count": 259,
   "metadata": {},
   "outputs": [
    {
     "data": {
      "text/plain": [
       "array([161., 152., 126., ...,  11.,  13.,   9.])"
      ]
     },
     "execution_count": 259,
     "metadata": {},
     "output_type": "execute_result"
    }
   ],
   "source": [
    "image1[image1>0]"
   ]
  },
  {
   "cell_type": "code",
   "execution_count": 297,
   "metadata": {},
   "outputs": [
    {
     "data": {
      "text/plain": [
       "True"
      ]
     },
     "execution_count": 297,
     "metadata": {},
     "output_type": "execute_result"
    }
   ],
   "source": [
    "image1, image_depth=uvRGBD_to_image(u, v, d, pcMatC.T, image_x=1408, image_y=376)\n",
    "# print(pcMatC.T)\n",
    "# print(77)\n",
    "# print(u)\n",
    "\n",
    "cv2.imwrite('05_frame_00.png',image1.transpose((1,0,2)))"
   ]
  },
  {
   "cell_type": "markdown",
   "metadata": {},
   "source": [
    "Now, once we get points on frame, we are going to draw them. Using a huge matrix as a plot graph, set the boundary of image(1408,376), put u,v on the image, but ignore all the depth <0. if u and v are same, choose the smallest depth to save. Drawing graph with 3 channel RGB value.  \n",
    "\n",
    "画图工作：首先拥有像素坐标系的信息，图像像素u和v，深度信息depth，颜色信息RGB。使用一个巨大的空矩阵，作为图像，像素的大小为图片的大小。接着将3D得到的点放入矩阵中，其中，u和v超过图像边缘的点舍去，深度小于0的点舍去。"
   ]
  },
  {
   "cell_type": "code",
   "execution_count": null,
   "metadata": {},
   "outputs": [
    {
     "ename": "TypeError",
     "evalue": "Cannot interpret '376' as a data type",
     "output_type": "error",
     "traceback": [
      "\u001b[0;31m---------------------------------------------------------------------------\u001b[0m",
      "\u001b[0;31mTypeError\u001b[0m                                 Traceback (most recent call last)",
      "\u001b[0;32m<ipython-input-25-cf4aaf667653>\u001b[0m in \u001b[0;36m<module>\u001b[0;34m\u001b[0m\n\u001b[0;32m----> 1\u001b[0;31m \u001b[0mimageMat\u001b[0m\u001b[0;34m=\u001b[0m\u001b[0mnp\u001b[0m\u001b[0;34m.\u001b[0m\u001b[0mzeros\u001b[0m\u001b[0;34m(\u001b[0m\u001b[0;36m1408\u001b[0m\u001b[0;34m,\u001b[0m\u001b[0;36m376\u001b[0m\u001b[0;34m)\u001b[0m\u001b[0;34m\u001b[0m\u001b[0;34m\u001b[0m\u001b[0m\n\u001b[0m",
      "\u001b[0;31mTypeError\u001b[0m: Cannot interpret '376' as a data type"
     ]
    }
   ],
   "source": [
    "imageMat=np.zeros(1408,376)"
   ]
  }
 ],
 "metadata": {
  "interpreter": {
   "hash": "31f2aee4e71d21fbe5cf8b01ff0e069b9275f58929596ceb00d14d90e3e16cd6"
  },
  "kernelspec": {
   "display_name": "Python 3.6.9 64-bit",
   "language": "python",
   "name": "python3"
  },
  "language_info": {
   "codemirror_mode": {
    "name": "ipython",
    "version": 3
   },
   "file_extension": ".py",
   "mimetype": "text/x-python",
   "name": "python",
   "nbconvert_exporter": "python",
   "pygments_lexer": "ipython3",
   "version": "3.6.9"
  },
  "orig_nbformat": 4
 },
 "nbformat": 4,
 "nbformat_minor": 2
}
