{
 "cells": [
  {
   "cell_type": "code",
   "execution_count": 12,
   "metadata": {},
   "outputs": [],
   "source": [
    "import os\n",
    "\n",
    "import numpy as np\n",
    "from PIL import Image\n",
    "import cv2\n",
    "import matplotlib.pyplot as plt\n",
    "from plyfile import *\n",
    "import glob\n",
    "import time\n",
    "from kitti360scripts.helpers.project import Camera, CameraPerspective\n",
    "from kitti360scripts.helpers.ply import *"
   ]
  },
  {
   "cell_type": "code",
   "execution_count": 13,
   "metadata": {},
   "outputs": [
    {
     "name": "stdout",
     "output_type": "stream",
     "text": [
      "/media/ren/EXTERNAL_USB/KITTI360_DATASET/\n"
     ]
    }
   ],
   "source": [
    "#Main path\n",
    "\n",
    "KITTI360Path=\"/media/ren/EXTERNAL_USB/KITTI360_DATASET/\"\n",
    "\n",
    "print(KITTI360Path)\n",
    "\n",
    "# Intrinsicpath=os.path.join(KITTI360Path,'calibration/perspective.txt')\n",
    "\n",
    "# P_rect=CameraPerspective.load_intrinsics(Intrinsicpath)\n",
    "\n",
    "# print(P_rect)\n",
    "\n",
    "\n"
   ]
  },
  {
   "cell_type": "code",
   "execution_count": 14,
   "metadata": {},
   "outputs": [],
   "source": [
    "#image pixel \n",
    "width=1408 #width\n",
    "height=376 #height\n",
    "#template pixel\n",
    "tempWl=100 #width\n",
    "tempWr=1300\n",
    "tempHu=10 #height\n",
    "tempHd=350\n",
    "#index of frame\n",
    "frameId=0\n",
    "#maximum and minimum value within matrix\n",
    "max_v=0\n",
    "min_v=0\n",
    "# cam2pose=[] #unrecified camera to GPU/IMU matrix \n",
    "poses=[] #GPU/IMU to world transform matrix\n",
    "R_rectMat=np.eye(4)#recification matrix\n",
    "pcMat=[]#point cloud matrix\n",
    "pcMatC=[]#point cloud color matrix\n",
    "frame=[]#frame index\n",
    "proj_points=[] #camera coordinate\n",
    "U=[]#image coordinate u\n",
    "V=[]#image coordinate v\n",
    "D=[]#image coordinate depth\n",
    "\n",
    "#perspective file\n",
    "perspective=os.path.join(KITTI360Path,\"calibration/perspective.txt\")\n",
    "#calib_cam2pose file\n",
    "calib_cam2pose=os.path.join(KITTI360Path,\"calibration/calib_cam_to_pose.txt\")"
   ]
  },
  {
   "cell_type": "code",
   "execution_count": 6,
   "metadata": {},
   "outputs": [],
   "source": [
    "# K,width,height=CameraPerspective.load_intrinsics(perspective)"
   ]
  },
  {
   "cell_type": "code",
   "execution_count": 15,
   "metadata": {},
   "outputs": [],
   "source": [
    "#intrinsic matrix and recification matrix load from perspective\n",
    "def load_intrinsics(intrinsic_file):\n",
    "    #This function is camera Intrinsic matrix, P_rect_00 and R_rect_00\n",
    "    with open(intrinsic_file) as f:\n",
    "        intrinsics = f.read().splitlines()\n",
    "    for line in intrinsics:\n",
    "        line = line.split(' ')\n",
    "        #3x4 intrinsic matrix from perspective.txt\n",
    "        if line[0] == 'P_rect_00:' :\n",
    "            IntrinsicMat = [float(x) for x in line[1:]]\n",
    "            IntrinsicMat = np.reshape(IntrinsicMat, [3,4])\n",
    " \n",
    "        #rectification matrix: eye(4) with the left up 3x3 filled with numbers from perspective.txt\n",
    "        # elif line[0] == 'R_rect_00:':\n",
    "        #     # R_rect = np.eye(4) \n",
    "        #     R_rectMat[:3,:3] = np.array([float(x) for x in line[1:]]).reshape(3,3)\n",
    "\n",
    "            \n",
    "    # print(\"intrinsic\",IntrinsicMat)\n",
    "    # print(\"R_rect\",R_rectMat)\n",
    "    # print(\"cam2pose calib\",calic2p)\n",
    "    return IntrinsicMat#, R_rectMat,# calic2p"
   ]
  },
  {
   "cell_type": "code",
   "execution_count": 16,
   "metadata": {},
   "outputs": [
    {
     "data": {
      "text/plain": [
       "array([[552.554261,   0.      , 682.049453,   0.      ],\n",
       "       [  0.      , 552.554261, 238.769549,   0.      ],\n",
       "       [  0.      ,   0.      ,   1.      ,   0.      ]])"
      ]
     },
     "execution_count": 16,
     "metadata": {},
     "output_type": "execute_result"
    }
   ],
   "source": [
    "IntrinsicMat=load_intrinsics(perspective)#read intrinsic matrix and rectification matrix\n",
    "IntrinsicMat"
   ]
  },
  {
   "cell_type": "code",
   "execution_count": null,
   "metadata": {},
   "outputs": [],
   "source": [
    "# #ply read\n",
    "# def read_ply(seq,str):\n",
    "#     \"\"\" read XYZ point cloud from filename PLY file \"\"\"\n",
    "#     pc_path=os.path.join(KITTI360Path,'data_3d_semantics/2013_05_28_drive_00%s_sync/'%seq,str)\n",
    "#     # print(pc_path)\n",
    "#     filelist = os.listdir(pc_path)\n",
    "#     filelist=sorted(filelist)\n",
    "#     # print('file',filelist)\n",
    "#     # print(len(filelist))\n",
    "#     for i in range(len(filelist)):\n",
    "#         # print(filelist[i],i)\n",
    "#         plydata = PlyData.read(os.path.join(pc_path,filelist[i]))\n",
    "#         # print('plydata',plydata)\n",
    "#         pc_x = np.expand_dims(np.array(plydata['vertex']['x']),1)\n",
    "#         pc_y = np.expand_dims(np.array(plydata['vertex']['y']),1)\n",
    "#         pc_z = np.expand_dims(np.array(plydata['vertex']['z']),1)\n",
    "#         pc_r = np.expand_dims(np.array(plydata['vertex']['red']),1)#.reshape()\n",
    "#         pc_g = np.expand_dims(np.array(plydata['vertex']['green']),1)\n",
    "#         pc_b = np.expand_dims(np.array(plydata['vertex']['blue']),1)\n",
    "#         # print(pc_x.shape,pc_y.shape,pc_z.shape)\n",
    "#         pc=np.concatenate((pc_x,pc_y,pc_z),1)\n",
    "#         # print('pcc',pc)\n",
    "#         pc=np.transpose(np.concatenate((pc_x,pc_y,pc_z),1))\n",
    "#         # print('pc',pc)\n",
    "#         pc_color=np.transpose(np.concatenate((pc_r,pc_g,pc_b),1))\n",
    "        \n",
    "#         if i == 0:\n",
    "#             pc_0=pc\n",
    "#             pc_c0=pc_color\n",
    "#             pcMat=pc_0\n",
    "#             pcMatC=pc_c0\n",
    "#             # print('pc_0',pc_0)\n",
    "#             # print('pc_c0',pc_c0)\n",
    "#         # print(pc_0)\n",
    "#         pcMat=np.array(np.concatenate([pcMat,pc],axis=1))\n",
    "            \n",
    "            \n",
    "#         # pcMat=np.concatenate([pcMat,pc],axis=0)\n",
    "#         pcMat_RGB=np.array(np.concatenate([pcMatC,pc_color],axis=1))\n",
    "#     # print(pc.shape)\n",
    "#     # pcMat\n",
    "#     return pcMat,pcMat_RGB\n",
    "\n",
    "# pcMat,pcMatC=read_ply(\"07\",\"static\")\n",
    "# print('pcMat',pcMat[:,:100],pcMat[:,:100].shape)"
   ]
  },
  {
   "cell_type": "code",
   "execution_count": 19,
   "metadata": {},
   "outputs": [
    {
     "name": "stdout",
     "output_type": "stream",
     "text": [
      "pcMat [[ 880.9501  881.0583  881.0631 ... 1026.45   1026.42   1026.83  ]\n",
      " [3274.7288 3274.838  3274.8547 ... 3474.57   3474.66   3475.52  ]\n",
      " [ 115.9397  115.7767  115.669  ...  114.729   114.724   114.727 ]] (3, 2342392)\n"
     ]
    }
   ],
   "source": [
    "# #ply read\n",
    "def read_oneply(seq,str):\n",
    "    \"\"\" read XYZ point cloud from filename PLY file \"\"\"\n",
    "    pc_path=os.path.join(KITTI360Path,'data_3d_semantics/2013_05_28_drive_00%s_sync/'%seq,str,'002782_002902.ply')\n",
    "    # print(pc_path)\n",
    "    # filelist = os.listdir(pc_path)\n",
    "    # filelist=sorted(filelist)\n",
    "    # print('file',filelist)\n",
    "    # print(len(filelist))\n",
    "    # print(filelist[i],i)\n",
    "    plydata = PlyData.read(pc_path)\n",
    "    # print('plydata',plydata)\n",
    "    pc_x = np.expand_dims(np.array(plydata['vertex']['x']),1)\n",
    "    pc_y = np.expand_dims(np.array(plydata['vertex']['y']),1)\n",
    "    pc_z = np.expand_dims(np.array(plydata['vertex']['z']),1)\n",
    "    pc_r = np.expand_dims(np.array(plydata['vertex']['red']),1)#.reshape()\n",
    "    pc_g = np.expand_dims(np.array(plydata['vertex']['green']),1)\n",
    "    pc_b = np.expand_dims(np.array(plydata['vertex']['blue']),1)\n",
    "    # print(pc_x.shape,pc_y.shape,pc_z.shape)\n",
    "    pc=np.concatenate((pc_x,pc_y,pc_z),1)\n",
    "    # print('pcc',pc)\n",
    "    pc=np.transpose(np.concatenate((pc_x,pc_y,pc_z),1))\n",
    "    # print('pc',pc)\n",
    "    pc_color=np.transpose(np.concatenate((pc_r,pc_g,pc_b),1))\n",
    "    \n",
    "    \n",
    "    # pc_0=pc\n",
    "    # pc_c0=pc_color\n",
    "    # pcMat=pc_0\n",
    "    # pcMatC=pc_c0\n",
    "        # print('pc_0',pc_0)\n",
    "        # print('pc_c0',pc_c0)\n",
    "    # print(pc_0)\n",
    "    # pcMat=np.array(np.concatenate([pcMat,pc],axis=1))\n",
    "        \n",
    "        \n",
    "    # pcMat=np.concatenate([pcMat,pc],axis=0)\n",
    "    # pcMat_RGB=np.array(np.concatenate([pcMatC,pc_color],axis=1))\n",
    "    # print(pc.shape)\n",
    "    # pcMat\n",
    "    return pc,pc_color\n",
    "\n",
    "pcMat,pcMatC=read_oneply(\"07\",\"static\")\n",
    "print('pcMat',pcMat,pcMat.shape)"
   ]
  },
  {
   "cell_type": "code",
   "execution_count": 11,
   "metadata": {},
   "outputs": [],
   "source": [
    "# pc_path=os.path.join(KITTI360Path,'data_3d_semantics/2013_05_28_drive_0000_sync/static/000372_000610.ply')\n",
    "# data=read_oneply(pc_path, \"static\")\n",
    "# print(data,data.shape)\n",
    "\n",
    "# pcMat= np.vstack((data['x'], data['y'], data['z']))\n",
    "# pcMatC= np.vstack((data['red'], data['green'], data['blue']))\n",
    "# print(pcMat,pcMat.shape,pcMatC,pcMatC.shape)"
   ]
  },
  {
   "cell_type": "code",
   "execution_count": 20,
   "metadata": {},
   "outputs": [
    {
     "name": "stdout",
     "output_type": "stream",
     "text": [
      "pcMat [[ 880.9501  881.0583  881.0631 ... 1026.45   1026.42   1026.83  ]\n",
      " [3274.7288 3274.838  3274.8547 ... 3474.57   3474.66   3475.52  ]\n",
      " [ 115.9397  115.7767  115.669  ...  114.729   114.724   114.727 ]] (3, 2342392)\n"
     ]
    }
   ],
   "source": [
    "print('pcMat',pcMat,pcMat.shape)"
   ]
  },
  {
   "cell_type": "code",
   "execution_count": 13,
   "metadata": {},
   "outputs": [
    {
     "name": "stdout",
     "output_type": "stream",
     "text": [
      "0.0001068115234375\n"
     ]
    }
   ],
   "source": [
    "import sys\n",
    "print(sys.getsizeof(pcMat)/1024**2)"
   ]
  },
  {
   "cell_type": "code",
   "execution_count": 21,
   "metadata": {},
   "outputs": [],
   "source": [
    "# T"
   ]
  },
  {
   "cell_type": "code",
   "execution_count": 22,
   "metadata": {},
   "outputs": [],
   "source": [
    "def world2image(pose_array_list, pcMat, IntrinsicMat):\n",
    "    #This function is to open poses file \n",
    "    #cam2poses file\n",
    "    \n",
    "    #input: row of cam0_to_world, 1x16 \n",
    "    #input: point cloud matrix, 3xN\n",
    "    # warning: pcMat will be destroyed!\n",
    "    \"\"\"\n",
    "    posespath=os.path.join(KITTI360Path,'data_poses/2013_05_28_drive_00%s_sync/'%seq,\"cam0_to_world.txt\")\n",
    "    # print('poses',posespath)\n",
    "    \n",
    "    with open(posespath) as f:\n",
    "        posesdata = f.read().splitlines()\n",
    "    start_time=time.time()\n",
    "    for line in posesdata:\n",
    "        line = line.split(' ')\n",
    "        # print('line',line)\n",
    "        # for i in line:\n",
    "        if '' in line:\n",
    "            line.remove('')\n",
    "        frame.append(int(line[0]))\n",
    "        frameID=len(frame)\n",
    "        print(frameID)\n",
    "        pcMat,pcMatC=read_ply(\"00\",'static')\n",
    "    \"\"\"\n",
    "        \n",
    "\n",
    "        # print('line',line)\n",
    "        # print('line',line[1:])\n",
    "\n",
    "        # print('frame',line[0])\n",
    "        # print('len line',len(line))  \n",
    "    #所有的R和T的来源，每个点的平移和旋转\n",
    "    pose=np.array([float(x) for x in pose_array_list]).reshape(4,4)\n",
    "    print('pose',pose)\n",
    "    R=pose[:3,:3].reshape(3,3)\n",
    "    T=pose[:3,3].reshape(3,1)\n",
    "    #R是3✖3，T是3x1。points最终结果为3x1\n",
    "    print('R',R,R.shape)\n",
    "    print('T',T,T.shape)\n",
    "    # print('R',R,R.shape)\n",
    "    \n",
    "    # print(int(pcMat.shape[1]))\n",
    "    \n",
    "    #R:3x3, pcMat:3xN, T:扩展为3xN    \n",
    "    # print('T.shape',(np.repeat(np.expand_dims(T,axis=1),pcMat.shape[1],axis=1)).shape)\n",
    "    # print('mat shape',pcMat[:,:].shape)\n",
    "    # print('R shape',(R.T).shape)\n",
    "    # points_local=np.matmul(R.T,(pcMat[:,:]-np.repeat(np.expand_dims(T,axis=1),pcMat.shape[1],axis=1)))\n",
    "    # points_local=np.matmul(R.T,(pcMat[:,:]-np.repeat(T,pcMat.shape[1],axis=1)))\n",
    "    # points_local=np.matmul(R.T,(pcMat[:,:]-np.repeat(T,pcMat.shape[1],axis=1)))\n",
    "        # points_local.append(points)\n",
    "    print('pcMat',pcMat[:,:],pcMat[:,:].shape)\n",
    "    print('T',T[:,:],T[:,:].shape)\n",
    "    print('transfer',(pcMat[:,:]-T[:,:]),(pcMat[:,:]-T[:,:]).shape)\n",
    "    points_local=np.matmul(R.T,(pcMat-T))\n",
    "    print('local points',points_local)    \n",
    "    #local points = 3xN\n",
    "    print('3x3 Intrinsic',IntrinsicMat[:3,:3])\n",
    "    print('Intrinsic',IntrinsicMat)\n",
    "    proj_points=np.matmul(IntrinsicMat[:3,:3],points_local)\n",
    "    print('image points',proj_points)\n",
    "    del pcMat\n",
    "    # proj_points.append(points_proj)\n",
    "    proj_points[2,:][proj_points[2,:]==0] = -1e-6\n",
    "    #depth=proj_points[2,:]\n",
    "    \n",
    "    #depth[depth==0]= -1e-6\n",
    "    \n",
    "    #print(sys.getsizeof(proj_points))\n",
    "\n",
    "    #normalized image coordinates\n",
    "    u = np.round(proj_points[0,:]/np.abs(proj_points[2,:]))#.astype(np.int)\n",
    "    v = np.round(proj_points[1,:]/np.abs(proj_points[2,:]))#.astype(np.int)\n",
    "        \n",
    "        # U.append(u)\n",
    "        # V.append(v)\n",
    "        # d.append(depth)\n",
    "        # end_time=time.time()\n",
    "        # print('pose',pose)\n",
    "        # pose=np.array(np.concatenate((pose, np.array([0.,0.,0.,1.]).reshape(1,4))))\n",
    "        # print('pose',pose)\n",
    "        # print('time',end_time-start_time)\n",
    "        # poses.appened(pose)\n",
    "    # print(\"poses\",poses)\n",
    "            # calculate u, v depth\n",
    "    print('u',u,u.shape)\n",
    "    print('v',v,u.shape)\n",
    "    print('d',proj_points[2,:])\n",
    "    return u,v,proj_points[2,:]\n",
    "\n"
   ]
  },
  {
   "cell_type": "code",
   "execution_count": 23,
   "metadata": {},
   "outputs": [
    {
     "ename": "FileNotFoundError",
     "evalue": "[Errno 2] No such file or directory: '/media/ren/EXTERNAL_USB/KITTI360_DATASET/data_3d_semantics/2013_05_28_drive_0007_sync/static/011079_011287.ply'",
     "output_type": "error",
     "traceback": [
      "\u001b[0;31m---------------------------------------------------------------------------\u001b[0m",
      "\u001b[0;31mFileNotFoundError\u001b[0m                         Traceback (most recent call last)",
      "\u001b[0;32m<ipython-input-23-be57f7d47da5>\u001b[0m in \u001b[0;36m<module>\u001b[0;34m\u001b[0m\n\u001b[0;32m----> 1\u001b[0;31m \u001b[0mpcMat\u001b[0m\u001b[0;34m,\u001b[0m\u001b[0mpcMatC\u001b[0m\u001b[0;34m=\u001b[0m\u001b[0mread_oneply\u001b[0m\u001b[0;34m(\u001b[0m\u001b[0;34m\"07\"\u001b[0m\u001b[0;34m,\u001b[0m\u001b[0;34m\"static\"\u001b[0m\u001b[0;34m)\u001b[0m\u001b[0;34m\u001b[0m\u001b[0;34m\u001b[0m\u001b[0m\n\u001b[0m\u001b[1;32m      2\u001b[0m \u001b[0;31m# print('pcMat',pcMat,pcMat.shape)\u001b[0m\u001b[0;34m\u001b[0m\u001b[0;34m\u001b[0m\u001b[0;34m\u001b[0m\u001b[0m\n\u001b[1;32m      3\u001b[0m \u001b[0mposespath\u001b[0m\u001b[0;34m=\u001b[0m\u001b[0mos\u001b[0m\u001b[0;34m.\u001b[0m\u001b[0mpath\u001b[0m\u001b[0;34m.\u001b[0m\u001b[0mjoin\u001b[0m\u001b[0;34m(\u001b[0m\u001b[0mKITTI360Path\u001b[0m\u001b[0;34m,\u001b[0m\u001b[0;34m'data_poses/2013_05_28_drive_0007_sync/'\u001b[0m\u001b[0;34m,\u001b[0m\u001b[0;34m\"cam0_to_world.txt\"\u001b[0m\u001b[0;34m)\u001b[0m\u001b[0;34m\u001b[0m\u001b[0;34m\u001b[0m\u001b[0m\n\u001b[1;32m      4\u001b[0m \u001b[0mIntrinsicMat\u001b[0m\u001b[0;34m=\u001b[0m\u001b[0mload_intrinsics\u001b[0m\u001b[0;34m(\u001b[0m\u001b[0mperspective\u001b[0m\u001b[0;34m)\u001b[0m\u001b[0;31m#read intrinsic matrix and rectification matrix\u001b[0m\u001b[0;34m\u001b[0m\u001b[0;34m\u001b[0m\u001b[0m\n\u001b[1;32m      5\u001b[0m \u001b[0;31m# print('IntrinsicMat',IntrinsicMat,IntrinsicMat.shape)\u001b[0m\u001b[0;34m\u001b[0m\u001b[0;34m\u001b[0m\u001b[0;34m\u001b[0m\u001b[0m\n",
      "\u001b[0;32m<ipython-input-19-ebab5d34520d>\u001b[0m in \u001b[0;36mread_oneply\u001b[0;34m(seq, str)\u001b[0m\n\u001b[1;32m      9\u001b[0m     \u001b[0;31m# print(len(filelist))\u001b[0m\u001b[0;34m\u001b[0m\u001b[0;34m\u001b[0m\u001b[0;34m\u001b[0m\u001b[0m\n\u001b[1;32m     10\u001b[0m     \u001b[0;31m# print(filelist[i],i)\u001b[0m\u001b[0;34m\u001b[0m\u001b[0;34m\u001b[0m\u001b[0;34m\u001b[0m\u001b[0m\n\u001b[0;32m---> 11\u001b[0;31m     \u001b[0mplydata\u001b[0m \u001b[0;34m=\u001b[0m \u001b[0mPlyData\u001b[0m\u001b[0;34m.\u001b[0m\u001b[0mread\u001b[0m\u001b[0;34m(\u001b[0m\u001b[0mpc_path\u001b[0m\u001b[0;34m)\u001b[0m\u001b[0;34m\u001b[0m\u001b[0;34m\u001b[0m\u001b[0m\n\u001b[0m\u001b[1;32m     12\u001b[0m     \u001b[0;31m# print('plydata',plydata)\u001b[0m\u001b[0;34m\u001b[0m\u001b[0;34m\u001b[0m\u001b[0;34m\u001b[0m\u001b[0m\n\u001b[1;32m     13\u001b[0m     \u001b[0mpc_x\u001b[0m \u001b[0;34m=\u001b[0m \u001b[0mnp\u001b[0m\u001b[0;34m.\u001b[0m\u001b[0mexpand_dims\u001b[0m\u001b[0;34m(\u001b[0m\u001b[0mnp\u001b[0m\u001b[0;34m.\u001b[0m\u001b[0marray\u001b[0m\u001b[0;34m(\u001b[0m\u001b[0mplydata\u001b[0m\u001b[0;34m[\u001b[0m\u001b[0;34m'vertex'\u001b[0m\u001b[0;34m]\u001b[0m\u001b[0;34m[\u001b[0m\u001b[0;34m'x'\u001b[0m\u001b[0;34m]\u001b[0m\u001b[0;34m)\u001b[0m\u001b[0;34m,\u001b[0m\u001b[0;36m1\u001b[0m\u001b[0;34m)\u001b[0m\u001b[0;34m\u001b[0m\u001b[0;34m\u001b[0m\u001b[0m\n",
      "\u001b[0;32m~/.local/lib/python3.6/site-packages/plyfile.py\u001b[0m in \u001b[0;36mread\u001b[0;34m(stream, mmap)\u001b[0m\n\u001b[1;32m    391\u001b[0m             \u001b[0mUsing\u001b[0m \u001b[0;32mFalse\u001b[0m \u001b[0mwill\u001b[0m \u001b[0mprevent\u001b[0m \u001b[0mmemory\u001b[0m \u001b[0mmapping\u001b[0m\u001b[0;34m.\u001b[0m\u001b[0;34m\u001b[0m\u001b[0;34m\u001b[0m\u001b[0m\n\u001b[1;32m    392\u001b[0m         '''\n\u001b[0;32m--> 393\u001b[0;31m         \u001b[0;34m(\u001b[0m\u001b[0mmust_close\u001b[0m\u001b[0;34m,\u001b[0m \u001b[0mstream\u001b[0m\u001b[0;34m)\u001b[0m \u001b[0;34m=\u001b[0m \u001b[0m_open_stream\u001b[0m\u001b[0;34m(\u001b[0m\u001b[0mstream\u001b[0m\u001b[0;34m,\u001b[0m \u001b[0;34m'read'\u001b[0m\u001b[0;34m)\u001b[0m\u001b[0;34m\u001b[0m\u001b[0;34m\u001b[0m\u001b[0m\n\u001b[0m\u001b[1;32m    394\u001b[0m         \u001b[0;32mtry\u001b[0m\u001b[0;34m:\u001b[0m\u001b[0;34m\u001b[0m\u001b[0;34m\u001b[0m\u001b[0m\n\u001b[1;32m    395\u001b[0m             \u001b[0mdata\u001b[0m \u001b[0;34m=\u001b[0m \u001b[0mPlyData\u001b[0m\u001b[0;34m.\u001b[0m\u001b[0m_parse_header\u001b[0m\u001b[0;34m(\u001b[0m\u001b[0mstream\u001b[0m\u001b[0;34m)\u001b[0m\u001b[0;34m\u001b[0m\u001b[0;34m\u001b[0m\u001b[0m\n",
      "\u001b[0;32m~/.local/lib/python3.6/site-packages/plyfile.py\u001b[0m in \u001b[0;36m_open_stream\u001b[0;34m(stream, read_or_write)\u001b[0m\n\u001b[1;32m    470\u001b[0m         \u001b[0;32mreturn\u001b[0m \u001b[0;34m(\u001b[0m\u001b[0;32mFalse\u001b[0m\u001b[0;34m,\u001b[0m \u001b[0mstream\u001b[0m\u001b[0;34m)\u001b[0m\u001b[0;34m\u001b[0m\u001b[0;34m\u001b[0m\u001b[0m\n\u001b[1;32m    471\u001b[0m     \u001b[0;32mtry\u001b[0m\u001b[0;34m:\u001b[0m\u001b[0;34m\u001b[0m\u001b[0;34m\u001b[0m\u001b[0m\n\u001b[0;32m--> 472\u001b[0;31m         \u001b[0;32mreturn\u001b[0m \u001b[0;34m(\u001b[0m\u001b[0;32mTrue\u001b[0m\u001b[0;34m,\u001b[0m \u001b[0mopen\u001b[0m\u001b[0;34m(\u001b[0m\u001b[0mstream\u001b[0m\u001b[0;34m,\u001b[0m \u001b[0mread_or_write\u001b[0m\u001b[0;34m[\u001b[0m\u001b[0;36m0\u001b[0m\u001b[0;34m]\u001b[0m \u001b[0;34m+\u001b[0m \u001b[0;34m'b'\u001b[0m\u001b[0;34m)\u001b[0m\u001b[0;34m)\u001b[0m\u001b[0;34m\u001b[0m\u001b[0;34m\u001b[0m\u001b[0m\n\u001b[0m\u001b[1;32m    473\u001b[0m     \u001b[0;32mexcept\u001b[0m \u001b[0mTypeError\u001b[0m\u001b[0;34m:\u001b[0m\u001b[0;34m\u001b[0m\u001b[0;34m\u001b[0m\u001b[0m\n\u001b[1;32m    474\u001b[0m         \u001b[0;32mraise\u001b[0m \u001b[0mRuntimeError\u001b[0m\u001b[0;34m(\u001b[0m\u001b[0;34m\"expected open file or filename\"\u001b[0m\u001b[0;34m)\u001b[0m\u001b[0;34m\u001b[0m\u001b[0;34m\u001b[0m\u001b[0m\n",
      "\u001b[0;31mFileNotFoundError\u001b[0m: [Errno 2] No such file or directory: '/media/ren/EXTERNAL_USB/KITTI360_DATASET/data_3d_semantics/2013_05_28_drive_0007_sync/static/011079_011287.ply'"
     ]
    }
   ],
   "source": [
    "\n",
    "pcMat,pcMatC=read_oneply(\"07\",\"static\")\n",
    "# print('pcMat',pcMat,pcMat.shape)\n",
    "posespath=os.path.join(KITTI360Path,'data_poses/2013_05_28_drive_0007_sync/',\"cam0_to_world.txt\")\n",
    "IntrinsicMat=load_intrinsics(perspective)#read intrinsic matrix and rectification matrix\n",
    "# print('IntrinsicMat',IntrinsicMat,IntrinsicMat.shape)\n",
    "poses=np.loadtxt(posespath)    \n",
    "frame=poses[:,0]\n",
    "pose_initial=poses[0,1:]\n",
    "\n",
    "print('inital',pose_initial)\n",
    "u,v,d=world2image(pose_initial, pcMat, IntrinsicMat)\n",
    "del pcMat\n",
    "\n",
    "# print('u',u,u.shape)\n",
    "# print('v',v,v.shape)\n",
    "# print('depth',d,d.shape)\n",
    "# del u,v,d"
   ]
  },
  {
   "cell_type": "code",
   "execution_count": 90,
   "metadata": {},
   "outputs": [
    {
     "data": {
      "text/plain": [
       "441.0"
      ]
     },
     "execution_count": 90,
     "metadata": {},
     "output_type": "execute_result"
    }
   ],
   "source": [
    "max(u)"
   ]
  },
  {
   "cell_type": "code",
   "execution_count": 45,
   "metadata": {},
   "outputs": [],
   "source": [
    "pcMat = None"
   ]
  },
  {
   "cell_type": "code",
   "execution_count": 46,
   "metadata": {},
   "outputs": [],
   "source": [
    "# def transfer4frame(seq,pcMat):\n",
    "#     posespath=os.path.join(KITTI360Path,'data_poses/2013_05_28_drive_00%s_sync/'%seq,\"cam0_to_world.txt\")\n",
    "#     # print('poses',posespath)\n",
    "#     frame=[]\n",
    "#     U=[]\n",
    "#     V=[]\n",
    "#     D=[]\n",
    "#     # with open(posespath) as f:\n",
    "#     #     posesdata = f.read().splitlines()\n",
    "#     #     # print(posesdata)\n",
    "#     # # start_time=time.time()\n",
    "#     # for line in posesdata:\n",
    "#     #     line = line.split(' ')\n",
    "#     #     print('line',line)\n",
    "#     #     # for i in line:\n",
    "#     #     if '' in line:\n",
    "#     #         line.remove('')\n",
    "#     #     print('l',line)\n",
    "#     #     frame.append(int(line[0]))\n",
    "#     #     frameID=len(frame)\n",
    "#     #     print(\"frameID\",frameID)\n",
    "#     poses=np.loadtxt(posespath)    \n",
    "#     frame=poses[:,0]\n",
    "#     poses=poses[:,1:]\n",
    "#     print('poses',poses.shape)\n",
    "#     for i in range(poses.shape[0]): \n",
    "  \n",
    "#         u,v,depth=world2image(poses[i,:], pcMat)\n",
    "#         frame[i]\n",
    "#         U.append(u.T)\n",
    "#         V.append(v.T)\n",
    "        \n",
    "#         D.append(depth.T)    \n",
    "\n",
    "        \n",
    "        \n",
    "#     return U,V,D\n",
    "    "
   ]
  },
  {
   "cell_type": "code",
   "execution_count": 47,
   "metadata": {},
   "outputs": [],
   "source": [
    "# u,v,depth=transfer4frame('00', pcMat)"
   ]
  },
  {
   "cell_type": "code",
   "execution_count": 107,
   "metadata": {},
   "outputs": [],
   "source": [
    "\n",
    "def uvdepth_to_image(u, v, depth, image_x=1408, image_y=376):\n",
    "    # input u: N*1 \n",
    "    # input v: N*1\n",
    "    # input depth: N*1\n",
    "    # return: image image_x*image_y\n",
    "    \n",
    "    idx = np.where((u >= 0) & (u < image_x) & (v >= 0) & (v < image_y) & (depth >= 0))\n",
    "    image = np.zeros((image_x, image_y))\n",
    "    \n",
    "    for i in idx:\n",
    "        x = u[i]\n",
    "        y = v[i]\n",
    "        d = depth[i]\n",
    "        image[x,y] = d\n",
    "\n",
    "    return image\n",
    "\n",
    "def uvRGBD_to_image(u, v,  depth, rgb_mat, image_x=1408, image_y=376):\n",
    "    # input u: N*1\n",
    "    # input v: N*1\n",
    "    # input rgb_mat: N*3\n",
    "    # return: image: image_x*image_y*3\n",
    "    \n",
    "    idx = np.where((u >= 0) & (u < image_x) & (v >= 0) & (v < image_y) & (depth >= 0))\n",
    "    print(idx[0].shape)\n",
    "    # print(idx)\n",
    "    image = np.zeros((image_x, image_y, 3))\n",
    "    image_depth = np.ones((image_x, image_y))*np.inf\n",
    "    # print('image 0',image)\n",
    "    print(len(idx[0]))\n",
    "    for i in idx[0]:\n",
    "        x = int(u[i])\n",
    "        y = int(v[i])\n",
    "        rgb = rgb_mat[i,:]\n",
    "        d = depth[i]\n",
    "        if d < image_depth[x,y]:\n",
    "            image[x, y, :] = rgb\n",
    "            image_depth[x,y] = d\n",
    "    return image, image_depth\n",
    "    \n",
    "    \n"
   ]
  },
  {
   "cell_type": "code",
   "execution_count": 108,
   "metadata": {},
   "outputs": [
    {
     "name": "stdout",
     "output_type": "stream",
     "text": [
      "(2278721,)\n",
      "2278721\n",
      "[[128 128 128]\n",
      " [128 128 128]\n",
      " [128 128 128]\n",
      " ...\n",
      " [ 25  26  27]\n",
      " [ 26  26  27]\n",
      " [ 18  19  19]]\n",
      "77\n",
      "(1408, 376, 3)\n"
     ]
    },
    {
     "data": {
      "text/plain": [
       "True"
      ]
     },
     "execution_count": 108,
     "metadata": {},
     "output_type": "execute_result"
    }
   ],
   "source": [
    "image1, image_depth=uvRGBD_to_image(u, v, d, pcMatC.T, image_x=1408, image_y=376)\n",
    "print(pcMatC.T)\n",
    "print(77)\n",
    "print(image1.shape)\n",
    "\n",
    "cv2.imwrite('frame1.png',image1)"
   ]
  },
  {
   "cell_type": "markdown",
   "metadata": {},
   "source": [
    "Now, once we get points on frame, we are going to draw them. Using a huge matrix as a plot graph, set the boundary of image(1408,376), put u,v on the image, but ignore all the depth <0. if u and v are same, choose the smallest depth to save. Drawing graph with 3 channel RGB value.  \n",
    "\n",
    "画图工作：首先拥有像素坐标系的信息，图像像素u和v，深度信息depth，颜色信息RGB。使用一个巨大的空矩阵，作为图像，像素的大小为图片的大小。接着将3D得到的点放入矩阵中，其中，u和v超过图像边缘的点舍去，深度小于0的点舍去。"
   ]
  },
  {
   "cell_type": "code",
   "execution_count": null,
   "metadata": {},
   "outputs": [
    {
     "ename": "TypeError",
     "evalue": "Cannot interpret '376' as a data type",
     "output_type": "error",
     "traceback": [
      "\u001b[0;31m---------------------------------------------------------------------------\u001b[0m",
      "\u001b[0;31mTypeError\u001b[0m                                 Traceback (most recent call last)",
      "\u001b[0;32m<ipython-input-25-cf4aaf667653>\u001b[0m in \u001b[0;36m<module>\u001b[0;34m\u001b[0m\n\u001b[0;32m----> 1\u001b[0;31m \u001b[0mimageMat\u001b[0m\u001b[0;34m=\u001b[0m\u001b[0mnp\u001b[0m\u001b[0;34m.\u001b[0m\u001b[0mzeros\u001b[0m\u001b[0;34m(\u001b[0m\u001b[0;36m1408\u001b[0m\u001b[0;34m,\u001b[0m\u001b[0;36m376\u001b[0m\u001b[0;34m)\u001b[0m\u001b[0;34m\u001b[0m\u001b[0;34m\u001b[0m\u001b[0m\n\u001b[0m",
      "\u001b[0;31mTypeError\u001b[0m: Cannot interpret '376' as a data type"
     ]
    }
   ],
   "source": [
    "imageMat=np.zeros(1408,376)"
   ]
  }
 ],
 "metadata": {
  "interpreter": {
   "hash": "31f2aee4e71d21fbe5cf8b01ff0e069b9275f58929596ceb00d14d90e3e16cd6"
  },
  "kernelspec": {
   "display_name": "Python 3.6.9 64-bit",
   "language": "python",
   "name": "python3"
  },
  "language_info": {
   "codemirror_mode": {
    "name": "ipython",
    "version": 3
   },
   "file_extension": ".py",
   "mimetype": "text/x-python",
   "name": "python",
   "nbconvert_exporter": "python",
   "pygments_lexer": "ipython3",
   "version": "3.6.9"
  },
  "orig_nbformat": 4
 },
 "nbformat": 4,
 "nbformat_minor": 2
}
