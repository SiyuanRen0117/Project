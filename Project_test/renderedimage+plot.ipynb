{
 "cells": [
  {
   "cell_type": "code",
   "execution_count": 2,
   "metadata": {},
   "outputs": [],
   "source": [
    "import os\n",
    "\n",
    "import numpy as np\n",
    "from PIL import Image\n",
    "import cv2\n",
    "import matplotlib.pyplot as plt\n",
    "from plyfile import *\n",
    "import glob\n",
    "import time\n",
    "from kitti360scripts.helpers.project import Camera, CameraPerspective\n",
    "from kitti360scripts.helpers.ply import *"
   ]
  },
  {
   "cell_type": "code",
   "execution_count": 3,
   "metadata": {},
   "outputs": [
    {
     "name": "stdout",
     "output_type": "stream",
     "text": [
      "/media/ren/Seagate/KITTI360_DATASET/\n"
     ]
    }
   ],
   "source": [
    "#Main path\n",
    "\n",
    "KITTI360Path=\"/media/ren/Seagate/KITTI360_DATASET/\"\n",
    "\n",
    "print(KITTI360Path)\n",
    "\n",
    "# Intrinsicpath=os.path.join(KITTI360Path,'calibration/perspective.txt')\n",
    "\n",
    "# P_rect=CameraPerspective.load_intrinsics(Intrinsicpath)\n",
    "\n",
    "# print(P_rect)\n",
    "\n",
    "\n"
   ]
  },
  {
   "cell_type": "code",
   "execution_count": 4,
   "metadata": {},
   "outputs": [],
   "source": [
    "#image pixel \n",
    "width=1408 #width\n",
    "height=376 #height\n",
    "#template pixel\n",
    "tempWl=100 #width\n",
    "tempWr=1300\n",
    "tempHu=10 #height\n",
    "tempHd=350\n",
    "#index of frame\n",
    "frameId=0\n",
    "#maximum and minimum value within matrix\n",
    "max_v=0\n",
    "min_v=0\n",
    "# cam2pose=[] #unrecified camera to GPU/IMU matrix \n",
    "poses=[] #GPU/IMU to world transform matrix\n",
    "R_rectMat=np.eye(4)#recification matrix\n",
    "pcMat=[]#point cloud matrix\n",
    "pcMatC=[]#point cloud color matrix\n",
    "frame=[]#frame index\n",
    "proj_points=[] #camera coordinate\n",
    "U=[]#image coordinate u\n",
    "V=[]#image coordinate v\n",
    "D=[]#image coordinate depth\n",
    "\n",
    "#perspective file\n",
    "perspective=os.path.join(KITTI360Path,\"calibration/perspective.txt\")\n",
    "#calib_cam2pose file\n",
    "calib_cam2pose=os.path.join(KITTI360Path,\"calibration/calib_cam_to_pose.txt\")"
   ]
  },
  {
   "cell_type": "code",
   "execution_count": 5,
   "metadata": {},
   "outputs": [],
   "source": [
    "# K,width,height=CameraPerspective.load_intrinsics(perspective)"
   ]
  },
  {
   "cell_type": "code",
   "execution_count": 6,
   "metadata": {},
   "outputs": [],
   "source": [
    "#intrinsic matrix and recification matrix load from perspective\n",
    "def load_intrinsics(intrinsic_file):\n",
    "    #This function is camera Intrinsic matrix, P_rect_00 and R_rect_00\n",
    "    with open(intrinsic_file) as f:\n",
    "        intrinsics = f.read().splitlines()\n",
    "    for line in intrinsics:\n",
    "        line = line.split(' ')\n",
    "        #3x4 intrinsic matrix from perspective.txt\n",
    "        if line[0] == 'P_rect_00:' :\n",
    "            IntrinsicMat = [float(x) for x in line[1:]]\n",
    "            IntrinsicMat = np.reshape(IntrinsicMat, [3,4])\n",
    " \n",
    "        #rectification matrix: eye(4) with the left up 3x3 filled with numbers from perspective.txt\n",
    "        # elif line[0] == 'R_rect_00:':\n",
    "        #     # R_rect = np.eye(4) \n",
    "        #     R_rectMat[:3,:3] = np.array([float(x) for x in line[1:]]).reshape(3,3)\n",
    "\n",
    "            \n",
    "    # print(\"intrinsic\",IntrinsicMat)\n",
    "    # print(\"R_rect\",R_rectMat)\n",
    "    # print(\"cam2pose calib\",calic2p)\n",
    "    return IntrinsicMat#, R_rectMat,# calic2p"
   ]
  },
  {
   "cell_type": "code",
   "execution_count": 7,
   "metadata": {},
   "outputs": [
    {
     "data": {
      "text/plain": [
       "(4, 4)"
      ]
     },
     "execution_count": 7,
     "metadata": {},
     "output_type": "execute_result"
    }
   ],
   "source": [
    "IntrinsicMat=load_intrinsics(perspective)#read intrinsic matrix and rectification matrix\n",
    "IntrinsicMat\n",
    "R_rectMat.shape"
   ]
  },
  {
   "cell_type": "code",
   "execution_count": 1,
   "metadata": {},
   "outputs": [],
   "source": [
    "# #ply read\n",
    "# def read_ply(seq,str):\n",
    "#     \"\"\" read XYZ point cloud from filename PLY file \"\"\"\n",
    "#     pc_path=os.path.join(KITTI360Path,'data_3d_semantics/2013_05_28_drive_00%s_sync/'%seq,str)\n",
    "#     # print(pc_path)\n",
    "#     filelist = os.listdir(pc_path)\n",
    "#     filelist=sorted(filelist)\n",
    "#     # print('file',filelist)\n",
    "#     # print(len(filelist))\n",
    "#     for i in range(len(filelist)):\n",
    "#         # print(filelist[i],i)\n",
    "#         plydata = PlyData.read(os.path.join(pc_path,filelist[i]))\n",
    "#         # print('plydata',plydata)\n",
    "#         pc_x = np.expand_dims(np.array(plydata['vertex']['x']),1)\n",
    "#         pc_y = np.expand_dims(np.array(plydata['vertex']['y']),1)\n",
    "#         pc_z = np.expand_dims(np.array(plydata['vertex']['z']),1)\n",
    "#         pc_r = np.expand_dims(np.array(plydata['vertex']['red']),1)#.reshape()\n",
    "#         pc_g = np.expand_dims(np.array(plydata['vertex']['green']),1)\n",
    "#         pc_b = np.expand_dims(np.array(plydata['vertex']['blue']),1)\n",
    "#         # print(pc_x.shape,pc_y.shape,pc_z.shape)\n",
    "#         pc=np.concatenate((pc_x,pc_y,pc_z),1)\n",
    "#         # print('pcc',pc)\n",
    "#         pc=np.transpose(np.concatenate((pc_x,pc_y,pc_z),1))\n",
    "#         # print('pc',pc)\n",
    "#         pc_color=np.transpose(np.concatenate((pc_r,pc_g,pc_b),1))\n",
    "        \n",
    "#         if i == 0:\n",
    "#             pc_0=pc\n",
    "#             pc_c0=pc_color\n",
    "#             pcMat=pc_0\n",
    "#             pcMatC=pc_c0\n",
    "#             # print('pc_0',pc_0)\n",
    "#             # print('pc_c0',pc_c0)\n",
    "#         # print(pc_0)\n",
    "#         pcMat=np.array(np.concatenate([pcMat,pc],axis=1))\n",
    "            \n",
    "            \n",
    "#         # pcMat=np.concatenate([pcMat,pc],axis=0)\n",
    "#         pcMat_RGB=np.array(np.concatenate([pcMatC,pc_color],axis=1))\n",
    "#     # print(pc.shape)\n",
    "#     # pcMat\n",
    "#     return pcMat,pcMat_RGB\n",
    "\n",
    "# pcMat,pcMatC=read_ply(\"00\",\"static\")\n",
    "# print('pcMat',pcMat,pcMat.shape)"
   ]
  },
  {
   "cell_type": "code",
   "execution_count": 8,
   "metadata": {},
   "outputs": [
    {
     "name": "stdout",
     "output_type": "stream",
     "text": [
      "pcMat [[ 781.8907  781.9796  782.0356 ...  817.023   817.055   817.602 ]\n",
      " [3144.7666 3144.7402 3144.6812 ... 3156.94   3157.05   3156.37  ]\n",
      " [ 116.1595  116.1595  116.1602 ...  115.263   115.259   114.905 ]] (3, 2293868)\n"
     ]
    }
   ],
   "source": [
    "#ply read\n",
    "def read_oneply(seq,str):\n",
    "    \"\"\" read XYZ point cloud from filename PLY file \"\"\"\n",
    "    pc_path=os.path.join(KITTI360Path,'data_3d_semantics/2013_05_28_drive_00%s_sync/'%seq,str,'011278_011467.ply')\n",
    "    # print(pc_path)\n",
    "    # filelist = os.listdir(pc_path)\n",
    "    # filelist=sorted(filelist)\n",
    "    # print('file',filelist)\n",
    "    # print(len(filelist))\n",
    "    # print(filelist[i],i)\n",
    "    plydata = PlyData.read(pc_path)\n",
    "    # print('plydata',plydata)\n",
    "    pc_x = np.expand_dims(np.array(plydata['vertex']['x']),1)\n",
    "    pc_y = np.expand_dims(np.array(plydata['vertex']['y']),1)\n",
    "    pc_z = np.expand_dims(np.array(plydata['vertex']['z']),1)\n",
    "    pc_r = np.expand_dims(np.array(plydata['vertex']['red']),1)#.reshape()\n",
    "    pc_g = np.expand_dims(np.array(plydata['vertex']['green']),1)\n",
    "    pc_b = np.expand_dims(np.array(plydata['vertex']['blue']),1)\n",
    "    # print(pc_x.shape,pc_y.shape,pc_z.shape)\n",
    "    pc=np.concatenate((pc_x,pc_y,pc_z),1)\n",
    "    # print('pcc',pc)\n",
    "    pc=np.transpose(np.concatenate((pc_x,pc_y,pc_z),1))\n",
    "    # print('pc',pc)\n",
    "    pc_color=np.transpose(np.concatenate((pc_r,pc_g,pc_b),1))\n",
    "    \n",
    "    \n",
    "    # pc_0=pc\n",
    "    # pc_c0=pc_color\n",
    "    # pcMat=pc_0\n",
    "    # pcMatC=pc_c0\n",
    "        # print('pc_0',pc_0)\n",
    "        # print('pc_c0',pc_c0)\n",
    "    # print(pc_0)\n",
    "    # pcMat=np.array(np.concatenate([pcMat,pc],axis=1))\n",
    "        \n",
    "        \n",
    "    # pcMat=np.concatenate([pcMat,pc],axis=0)\n",
    "    # pcMat_RGB=np.array(np.concatenate([pcMatC,pc_color],axis=1))\n",
    "    # print(pc.shape)\n",
    "    # pcMat\n",
    "    return pc,pc_color\n",
    "\n",
    "pcMat,pcMatC=read_oneply(\"00\",\"static\")\n",
    "print('pcMat',pcMat,pcMat.shape)"
   ]
  },
  {
   "cell_type": "code",
   "execution_count": 9,
   "metadata": {},
   "outputs": [],
   "source": [
    "# pc_path=os.path.join(KITTI360Path,'data_3d_semantics/2013_05_28_drive_0000_sync/static/000372_000610.ply')\n",
    "# data=read_oneply(pc_path, \"static\")\n",
    "# print(data,data.shape)\n",
    "\n",
    "# pcMat= np.vstack((data['x'], data['y'], data['z']))\n",
    "# pcMatC= np.vstack((data['red'], data['green'], data['blue']))\n",
    "# print(pcMat,pcMat.shape,pcMatC,pcMatC.shape)"
   ]
  },
  {
   "cell_type": "code",
   "execution_count": 10,
   "metadata": {},
   "outputs": [
    {
     "name": "stdout",
     "output_type": "stream",
     "text": [
      "pcMat [[ 781.8907  781.9796  782.0356 ...  817.023   817.055   817.602 ]\n",
      " [3144.7666 3144.7402 3144.6812 ... 3156.94   3157.05   3156.37  ]\n",
      " [ 116.1595  116.1595  116.1602 ...  115.263   115.259   114.905 ]] (3, 2293868)\n"
     ]
    }
   ],
   "source": [
    "print('pcMat',pcMat,pcMat.shape)"
   ]
  },
  {
   "cell_type": "code",
   "execution_count": 11,
   "metadata": {},
   "outputs": [
    {
     "name": "stdout",
     "output_type": "stream",
     "text": [
      "0.0001068115234375\n"
     ]
    }
   ],
   "source": [
    "import sys\n",
    "print(sys.getsizeof(pcMat)/1024**2)"
   ]
  },
  {
   "cell_type": "code",
   "execution_count": 12,
   "metadata": {},
   "outputs": [],
   "source": [
    "def world2image(pose_array_list, pcMat, IntrinsicMat):\n",
    "    #This function is to open poses file \n",
    "    #cam2poses file\n",
    "    \n",
    "    #input: row of cam0_to_world, 1x16 \n",
    "    #input: point cloud matrix, 3xN\n",
    "    # warning: pcMat will be destroyed!\n",
    "    \"\"\"\n",
    "    posespath=os.path.join(KITTI360Path,'data_poses/2013_05_28_drive_00%s_sync/'%seq,\"cam0_to_world.txt\")\n",
    "    # print('poses',posespath)\n",
    "    \n",
    "    with open(posespath) as f:\n",
    "        posesdata = f.read().splitlines()\n",
    "    start_time=time.time()\n",
    "    for line in posesdata:\n",
    "        line = line.split(' ')\n",
    "        # print('line',line)\n",
    "        # for i in line:\n",
    "        if '' in line:\n",
    "            line.remove('')\n",
    "        frame.append(int(line[0]))\n",
    "        frameID=len(frame)\n",
    "        print(frameID)\n",
    "        pcMat,pcMatC=read_ply(\"00\",'static')\n",
    "    \"\"\"\n",
    "        \n",
    "\n",
    "        # print('line',line)\n",
    "        # print('line',line[1:])\n",
    "\n",
    "        # print('frame',line[0])\n",
    "        # print('len line',len(line))  \n",
    "    #所有的R和T的来源，每个点的平移和旋转\n",
    "    pose=np.array([float(x) for x in pose_array_list]).reshape(4,4)\n",
    "    print('pose',pose)\n",
    "    R=pose[:3,:3].reshape(3,3)\n",
    "    T=pose[:3,3].reshape(3,1)\n",
    "    #R是3✖3，T是3x1。points最终结果为3x1\n",
    "    print('R',R,R.shape)\n",
    "    print('T',T,T.shape)\n",
    "    # print('R',R,R.shape)\n",
    "    \n",
    "    # print(int(pcMat.shape[1]))\n",
    "    \n",
    "    #R:3x3, pcMat:3xN, T:扩展为3xN    \n",
    "    # print('T.shape',(np.repeat(np.expand_dims(T,axis=1),pcMat.shape[1],axis=1)).shape)\n",
    "    # print('mat shape',pcMat[:,:].shape)\n",
    "    # print('R shape',(R.T).shape)\n",
    "    # points_local=np.matmul(R.T,(pcMat[:,:]-np.repeat(np.expand_dims(T,axis=1),pcMat.shape[1],axis=1)))\n",
    "    # points_local=np.matmul(R.T,(pcMat[:,:]-np.repeat(T,pcMat.shape[1],axis=1)))\n",
    "    # points_local=np.matmul(R.T,(pcMat[:,:]-np.repeat(T,pcMat.shape[1],axis=1)))\n",
    "        # points_local.append(points)\n",
    "    print('pcMat',pcMat[:,:],pcMat[:,:].shape)\n",
    "    print('T',T[:,:],T[:,:].shape)\n",
    "    print('transfer',(pcMat[:,:]-T[:,:]),(pcMat[:,:]-T[:,:]).shape)\n",
    "    points_local=np.matmul(R.T,(pcMat[:,:]-T[:,:]))\n",
    "    print('local points',points_local)    \n",
    "    #local points = 3xN\n",
    "    print('3x3 Intrinsic',IntrinsicMat[:3,:3])\n",
    "    print('Intrinsic',IntrinsicMat)\n",
    "    proj_points=np.matmul(IntrinsicMat[:3,:3],points_local)\n",
    "    print('image points',proj_points)\n",
    "    del pcMat\n",
    "    # proj_points.append(points_proj)\n",
    "    proj_points[2,:][proj_points[2,:]==0] = -1e-6\n",
    "    #depth=proj_points[2,:]\n",
    "    \n",
    "    #depth[depth==0]= -1e-6\n",
    "    \n",
    "    #print(sys.getsizeof(proj_points))\n",
    "\n",
    "    #normalized image coordinates\n",
    "    u = np.round(proj_points[0,:]/np.abs(proj_points[2,:])).astype(np.int)\n",
    "    v = np.round(proj_points[1,:]/np.abs(proj_points[2,:])).astype(np.int)\n",
    "        \n",
    "        # U.append(u)\n",
    "        # V.append(v)\n",
    "        # d.append(depth)\n",
    "        # end_time=time.time()\n",
    "        # print('pose',pose)\n",
    "        # pose=np.array(np.concatenate((pose, np.array([0.,0.,0.,1.]).reshape(1,4))))\n",
    "        # print('pose',pose)\n",
    "        # print('time',end_time-start_time)\n",
    "        # poses.appened(pose)\n",
    "    # print(\"poses\",poses)\n",
    "            # calculate u, v depth\n",
    "    print('u',u,u.shape)\n",
    "    print('v',v,u.shape)\n",
    "    print('d',proj_points[2,:])\n",
    "    return u,v,proj_points[2,:]\n",
    "\n"
   ]
  },
  {
   "cell_type": "code",
   "execution_count": 13,
   "metadata": {},
   "outputs": [
    {
     "name": "stdout",
     "output_type": "stream",
     "text": [
      "inital [-9.384250e-01  1.471056e-02 -3.451720e-01  8.456584e+02  3.454490e-01\n",
      "  5.439153e-02 -9.368600e-01  3.723648e+03  4.993000e-03 -9.984115e-01\n",
      " -5.612300e-02  1.159991e+02  0.000000e+00  0.000000e+00  0.000000e+00\n",
      "  1.000000e+00]\n",
      "pose [[-9.384250e-01  1.471056e-02 -3.451720e-01  8.456584e+02]\n",
      " [ 3.454490e-01  5.439153e-02 -9.368600e-01  3.723648e+03]\n",
      " [ 4.993000e-03 -9.984115e-01 -5.612300e-02  1.159991e+02]\n",
      " [ 0.000000e+00  0.000000e+00  0.000000e+00  1.000000e+00]]\n",
      "R [[-0.938425    0.01471056 -0.345172  ]\n",
      " [ 0.345449    0.05439153 -0.93686   ]\n",
      " [ 0.004993   -0.9984115  -0.056123  ]] (3, 3)\n",
      "T [[ 845.6584]\n",
      " [3723.648 ]\n",
      " [ 115.9991]] (3, 1)\n",
      "pcMat [[ 781.8907  781.9796  782.0356 ...  817.023   817.055   817.602 ]\n",
      " [3144.7666 3144.7402 3144.6812 ... 3156.94   3157.05   3156.37  ]\n",
      " [ 116.1595  116.1595  116.1602 ...  115.263   115.259   114.905 ]] (3, 2293868)\n",
      "T [[ 845.6584]\n",
      " [3723.648 ]\n",
      " [ 115.9991]] (3, 1)\n",
      "transfer [[-6.37677140e+01 -6.36787857e+01 -6.36228165e+01 ... -2.86353897e+01\n",
      "  -2.86034073e+01 -2.80564103e+01]\n",
      " [-5.78881398e+02 -5.78907766e+02 -5.78966848e+02 ... -5.66708059e+02\n",
      "  -5.66597951e+02 -5.67277883e+02]\n",
      " [ 1.60400122e-01  1.60400122e-01  1.61102026e-01 ... -7.36099512e-01\n",
      "  -7.40097314e-01 -1.09410122e+00]] (3, 2293868)\n",
      "local points [[-140.13198235 -140.22454334 -140.2974726  ... -168.90024186\n",
      "  -168.89223842 -169.64220339]\n",
      " [ -32.58444906  -32.58457503  -32.58766604 ...  -30.51043077\n",
      "   -30.49997993  -30.17547425]\n",
      " [ 564.33265417  564.326661    564.36265418 ...  540.85155864\n",
      "   540.73758833  541.20564877]]\n",
      "3x3 Intrinsic [[552.554261   0.       682.049453]\n",
      " [  0.       552.554261 238.769549]\n",
      " [  0.         0.         1.      ]]\n",
      "Intrinsic [[552.554261   0.       682.049453   0.      ]\n",
      " [  0.       552.554261 238.769549   0.      ]\n",
      " [  0.         0.         1.         0.      ]]\n",
      "image points [[307472.25413401 307417.02152908 307401.27328976 ... 275560.961401\n",
      "  275487.65034667 275392.49437619]\n",
      " [116740.77715231 116739.27656201 116746.16268637 ... 112280.21420379\n",
      "  112258.77622263 112549.8418014 ]\n",
      " [   564.33265417    564.326661      564.36265418 ...    540.85155864\n",
      "     540.73758833    541.20564877]]\n",
      "u [545 545 545 ... 509 509 509] (2293868,)\n",
      "v [207 207 207 ... 208 208 208] (2293868,)\n",
      "d [564.33265417 564.326661   564.36265418 ... 540.85155864 540.73758833\n",
      " 541.20564877]\n"
     ]
    }
   ],
   "source": [
    "\n",
    "pcMat,pcMatC=read_oneply(\"00\",\"static\")\n",
    "# print('pcMat',pcMat,pcMat.shape)\n",
    "posespath=os.path.join(KITTI360Path,'data_poses/2013_05_28_drive_0000_sync/',\"cam0_to_world.txt\")\n",
    "IntrinsicMat=load_intrinsics(perspective)#read intrinsic matrix and rectification matrix\n",
    "# print('IntrinsicMat',IntrinsicMat,IntrinsicMat.shape)\n",
    "poses=np.loadtxt(posespath)    \n",
    "frame=poses[:,0]\n",
    "pose_initial=poses[0,1:]\n",
    "\n",
    "print('inital',pose_initial)\n",
    "u,v,d=world2image(pose_initial, pcMat, IntrinsicMat)\n",
    "del pcMat\n",
    "\n",
    "# print('u',u,u.shape)\n",
    "# print('v',v,v.shape)\n",
    "# print('depth',d,d.shape)\n",
    "# del u,v,d"
   ]
  },
  {
   "cell_type": "code",
   "execution_count": 14,
   "metadata": {},
   "outputs": [
    {
     "name": "stdout",
     "output_type": "stream",
     "text": [
      "[545 545 545 ... 509 509 509]\n"
     ]
    }
   ],
   "source": [
    "print(u)"
   ]
  },
  {
   "cell_type": "code",
   "execution_count": 15,
   "metadata": {},
   "outputs": [],
   "source": [
    "pcMat = None"
   ]
  },
  {
   "cell_type": "code",
   "execution_count": 15,
   "metadata": {},
   "outputs": [],
   "source": [
    "# def transfer4frame(seq,pcMat):\n",
    "#     posespath=os.path.join(KITTI360Path,'data_poses/2013_05_28_drive_00%s_sync/'%seq,\"cam0_to_world.txt\")\n",
    "#     # print('poses',posespath)\n",
    "#     frame=[]\n",
    "#     U=[]\n",
    "#     V=[]\n",
    "#     D=[]\n",
    "#     # with open(posespath) as f:\n",
    "#     #     posesdata = f.read().splitlines()\n",
    "#     #     # print(posesdata)\n",
    "#     # # start_time=time.time()\n",
    "#     # for line in posesdata:\n",
    "#     #     line = line.split(' ')\n",
    "#     #     print('line',line)\n",
    "#     #     # for i in line:\n",
    "#     #     if '' in line:\n",
    "#     #         line.remove('')\n",
    "#     #     print('l',line)\n",
    "#     #     frame.append(int(line[0]))\n",
    "#     #     frameID=len(frame)\n",
    "#     #     print(\"frameID\",frameID)\n",
    "#     poses=np.loadtxt(posespath)    \n",
    "#     frame=poses[:,0]\n",
    "#     poses=poses[:,1:]\n",
    "#     print('poses',poses.shape)\n",
    "#     for i in range(poses.shape[0]): \n",
    "  \n",
    "#         u,v,depth=world2image(poses[i,:], pcMat)\n",
    "#         frame[i]\n",
    "#         U.append(u.T)\n",
    "#         V.append(v.T)\n",
    "        \n",
    "#         D.append(depth.T)    \n",
    "\n",
    "        \n",
    "        \n",
    "#     return U,V,D\n",
    "    "
   ]
  },
  {
   "cell_type": "code",
   "execution_count": 48,
   "metadata": {},
   "outputs": [
    {
     "ename": "NameError",
     "evalue": "name 'transfer4frame' is not defined",
     "output_type": "error",
     "traceback": [
      "\u001b[0;31m---------------------------------------------------------------------------\u001b[0m",
      "\u001b[0;31mNameError\u001b[0m                                 Traceback (most recent call last)",
      "\u001b[0;32m<ipython-input-48-07ded622e306>\u001b[0m in \u001b[0;36m<module>\u001b[0;34m\u001b[0m\n\u001b[0;32m----> 1\u001b[0;31m \u001b[0mu\u001b[0m\u001b[0;34m,\u001b[0m\u001b[0mv\u001b[0m\u001b[0;34m,\u001b[0m\u001b[0mdepth\u001b[0m\u001b[0;34m=\u001b[0m\u001b[0mtransfer4frame\u001b[0m\u001b[0;34m(\u001b[0m\u001b[0;34m'00'\u001b[0m\u001b[0;34m,\u001b[0m \u001b[0mpcMat\u001b[0m\u001b[0;34m)\u001b[0m\u001b[0;34m\u001b[0m\u001b[0;34m\u001b[0m\u001b[0m\n\u001b[0m",
      "\u001b[0;31mNameError\u001b[0m: name 'transfer4frame' is not defined"
     ]
    }
   ],
   "source": [
    "u,v,depth=transfer4frame('00', pcMat)"
   ]
  },
  {
   "cell_type": "code",
   "execution_count": 20,
   "metadata": {},
   "outputs": [],
   "source": [
    "\n",
    "def uvdepth_to_image(u, v, depth, image_x=1408, image_y=376):\n",
    "    # input u: N*1 \n",
    "    # input v: N*1\n",
    "    # input depth: N*1\n",
    "    # return: image image_x*image_y\n",
    "    \n",
    "    idx = np.where((u >= 0) & (u < image_x) & (v >= 0) & (v < image_y) & (depth >= 0))\n",
    "    image = np.zeros((image_x, image_y))\n",
    "    \n",
    "    for i in idx:\n",
    "        x = u[i]\n",
    "        y = v[i]\n",
    "        d = depth[i]\n",
    "        image[x,y] = d\n",
    "\n",
    "    return image\n",
    "\n",
    "def uvRGB_to_image(u, v,  depth, rgb_mat, image_x=1408, image_y=376):\n",
    "    # input u: N*1\n",
    "    # input v: N*1\n",
    "    # input rgb_mat: N*3\n",
    "    # return: image: image_x*image_y*3\n",
    "    \n",
    "    idx = np.where((u >= 0) & (u < image_x) & (v >= 0) & (v < image_y) & (depth >= 1e-6))\n",
    "    print(idx[0].shape)\n",
    "    # print(idx)\n",
    "    image = np.zeros((image_x, image_y, 3))\n",
    "    # print('image 0',image)\n",
    "    \n",
    "    for i in idx[0]:\n",
    "        x = u[i]\n",
    "        y = v[i]\n",
    "        rgb = rgb_mat[i,:]\n",
    "        image[x, y, :] = rgb\n",
    "    return image\n",
    "    \n",
    "    \n"
   ]
  },
  {
   "cell_type": "code",
   "execution_count": 22,
   "metadata": {},
   "outputs": [
    {
     "name": "stdout",
     "output_type": "stream",
     "text": [
      "(2293868,)\n",
      "[[ 38  35  25]\n",
      " [ 50  49  36]\n",
      " [ 38  36  28]\n",
      " ...\n",
      " [128 128 128]\n",
      " [ 91  61 122]\n",
      " [128 128 128]]\n",
      "[[[0. 0. 0.]\n",
      "  [0. 0. 0.]\n",
      "  [0. 0. 0.]\n",
      "  ...\n",
      "  [0. 0. 0.]\n",
      "  [0. 0. 0.]\n",
      "  [0. 0. 0.]]\n",
      "\n",
      " [[0. 0. 0.]\n",
      "  [0. 0. 0.]\n",
      "  [0. 0. 0.]\n",
      "  ...\n",
      "  [0. 0. 0.]\n",
      "  [0. 0. 0.]\n",
      "  [0. 0. 0.]]\n",
      "\n",
      " [[0. 0. 0.]\n",
      "  [0. 0. 0.]\n",
      "  [0. 0. 0.]\n",
      "  ...\n",
      "  [0. 0. 0.]\n",
      "  [0. 0. 0.]\n",
      "  [0. 0. 0.]]\n",
      "\n",
      " ...\n",
      "\n",
      " [[0. 0. 0.]\n",
      "  [0. 0. 0.]\n",
      "  [0. 0. 0.]\n",
      "  ...\n",
      "  [0. 0. 0.]\n",
      "  [0. 0. 0.]\n",
      "  [0. 0. 0.]]\n",
      "\n",
      " [[0. 0. 0.]\n",
      "  [0. 0. 0.]\n",
      "  [0. 0. 0.]\n",
      "  ...\n",
      "  [0. 0. 0.]\n",
      "  [0. 0. 0.]\n",
      "  [0. 0. 0.]]\n",
      "\n",
      " [[0. 0. 0.]\n",
      "  [0. 0. 0.]\n",
      "  [0. 0. 0.]\n",
      "  ...\n",
      "  [0. 0. 0.]\n",
      "  [0. 0. 0.]\n",
      "  [0. 0. 0.]]]\n"
     ]
    },
    {
     "data": {
      "text/plain": [
       "True"
      ]
     },
     "execution_count": 22,
     "metadata": {},
     "output_type": "execute_result"
    }
   ],
   "source": [
    "image=uvRGB_to_image(u, v, d, pcMatC.T, image_x=1408, image_y=376)\n",
    "print(pcMatC.T)\n",
    "print(image.shape)\n",
    "\n",
    "cv2.imwrite('frame0.png',image)"
   ]
  },
  {
   "cell_type": "markdown",
   "metadata": {},
   "source": [
    "Now, once we get points on frame, we are going to draw them. Using a huge matrix as a plot graph, set the boundary of image(1408,376), put u,v on the image, but ignore all the depth <0. if u and v are same, choose the smallest depth to save. Drawing graph with 3 channel RGB value.  \n",
    "\n",
    "画图工作：首先拥有像素坐标系的信息，图像像素u和v，深度信息depth，颜色信息RGB。使用一个巨大的空矩阵，作为图像，像素的大小为图片的大小。接着将3D得到的点放入矩阵中，其中，u和v超过图像边缘的点舍去，深度小于0的点舍去。"
   ]
  },
  {
   "cell_type": "code",
   "execution_count": 25,
   "metadata": {},
   "outputs": [
    {
     "ename": "TypeError",
     "evalue": "Cannot interpret '376' as a data type",
     "output_type": "error",
     "traceback": [
      "\u001b[0;31m---------------------------------------------------------------------------\u001b[0m",
      "\u001b[0;31mTypeError\u001b[0m                                 Traceback (most recent call last)",
      "\u001b[0;32m<ipython-input-25-cf4aaf667653>\u001b[0m in \u001b[0;36m<module>\u001b[0;34m\u001b[0m\n\u001b[0;32m----> 1\u001b[0;31m \u001b[0mimageMat\u001b[0m\u001b[0;34m=\u001b[0m\u001b[0mnp\u001b[0m\u001b[0;34m.\u001b[0m\u001b[0mzeros\u001b[0m\u001b[0;34m(\u001b[0m\u001b[0;36m1408\u001b[0m\u001b[0;34m,\u001b[0m\u001b[0;36m376\u001b[0m\u001b[0;34m)\u001b[0m\u001b[0;34m\u001b[0m\u001b[0;34m\u001b[0m\u001b[0m\n\u001b[0m",
      "\u001b[0;31mTypeError\u001b[0m: Cannot interpret '376' as a data type"
     ]
    }
   ],
   "source": [
    "imageMat=np.zeros(1408,376)"
   ]
  }
 ],
 "metadata": {
  "interpreter": {
   "hash": "31f2aee4e71d21fbe5cf8b01ff0e069b9275f58929596ceb00d14d90e3e16cd6"
  },
  "kernelspec": {
   "display_name": "Python 3.6.9 64-bit",
   "language": "python",
   "name": "python3"
  },
  "language_info": {
   "codemirror_mode": {
    "name": "ipython",
    "version": 3
   },
   "file_extension": ".py",
   "mimetype": "text/x-python",
   "name": "python",
   "nbconvert_exporter": "python",
   "pygments_lexer": "ipython3",
   "version": "3.6.9"
  },
  "orig_nbformat": 4
 },
 "nbformat": 4,
 "nbformat_minor": 2
}
